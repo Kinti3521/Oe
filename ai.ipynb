{
 "cells": [
  {
   "cell_type": "markdown",
   "id": "1266f555",
   "metadata": {},
   "source": [
    "NAME=RAJESH KUMAR , ROLL NO= 2101074CS , BRANCH=CSE , COURSE=CS303(AI-LAB)"
   ]
  },
  {
   "cell_type": "markdown",
   "id": "f90b2bfb",
   "metadata": {},
   "source": [
    "# Assignment 1"
   ]
  },
  {
   "cell_type": "markdown",
   "id": "ebe4988f",
   "metadata": {},
   "source": [
    "1. Write a python program to display a particular month of a year using calendar module"
   ]
  },
  {
   "cell_type": "code",
   "execution_count": 1,
   "id": "04a9c7e8",
   "metadata": {},
   "outputs": [
    {
     "name": "stdout",
     "output_type": "stream",
     "text": [
      "enter the month11\n",
      "enter the year2021\n",
      "   November 2021\n",
      "Mo Tu We Th Fr Sa Su\n",
      " 1  2  3  4  5  6  7\n",
      " 8  9 10 11 12 13 14\n",
      "15 16 17 18 19 20 21\n",
      "22 23 24 25 26 27 28\n",
      "29 30\n",
      "\n"
     ]
    }
   ],
   "source": [
    "\n",
    "import calendar\n",
    "m=int(input('enter the month  '))\n",
    "y=int(input('enter the year  '))\n",
    "print(calendar.month(y,m))\n"
   ]
  },
  {
   "cell_type": "markdown",
   "id": "1c2014f2",
   "metadata": {},
   "source": [
    "2.  Write a python program to print all the months of given year."
   ]
  },
  {
   "cell_type": "code",
   "execution_count": 2,
   "id": "6aa3138e",
   "metadata": {},
   "outputs": [
    {
     "name": "stdout",
     "output_type": "stream",
     "text": [
      "enter the year2021\n",
      "                                  2021\n",
      "\n",
      "      January                   February                   March\n",
      "Mo Tu We Th Fr Sa Su      Mo Tu We Th Fr Sa Su      Mo Tu We Th Fr Sa Su\n",
      "             1  2  3       1  2  3  4  5  6  7       1  2  3  4  5  6  7\n",
      " 4  5  6  7  8  9 10       8  9 10 11 12 13 14       8  9 10 11 12 13 14\n",
      "11 12 13 14 15 16 17      15 16 17 18 19 20 21      15 16 17 18 19 20 21\n",
      "18 19 20 21 22 23 24      22 23 24 25 26 27 28      22 23 24 25 26 27 28\n",
      "25 26 27 28 29 30 31                                29 30 31\n",
      "\n",
      "       April                      May                       June\n",
      "Mo Tu We Th Fr Sa Su      Mo Tu We Th Fr Sa Su      Mo Tu We Th Fr Sa Su\n",
      "          1  2  3  4                      1  2          1  2  3  4  5  6\n",
      " 5  6  7  8  9 10 11       3  4  5  6  7  8  9       7  8  9 10 11 12 13\n",
      "12 13 14 15 16 17 18      10 11 12 13 14 15 16      14 15 16 17 18 19 20\n",
      "19 20 21 22 23 24 25      17 18 19 20 21 22 23      21 22 23 24 25 26 27\n",
      "26 27 28 29 30            24 25 26 27 28 29 30      28 29 30\n",
      "                          31\n",
      "\n",
      "        July                     August                  September\n",
      "Mo Tu We Th Fr Sa Su      Mo Tu We Th Fr Sa Su      Mo Tu We Th Fr Sa Su\n",
      "          1  2  3  4                         1             1  2  3  4  5\n",
      " 5  6  7  8  9 10 11       2  3  4  5  6  7  8       6  7  8  9 10 11 12\n",
      "12 13 14 15 16 17 18       9 10 11 12 13 14 15      13 14 15 16 17 18 19\n",
      "19 20 21 22 23 24 25      16 17 18 19 20 21 22      20 21 22 23 24 25 26\n",
      "26 27 28 29 30 31         23 24 25 26 27 28 29      27 28 29 30\n",
      "                          30 31\n",
      "\n",
      "      October                   November                  December\n",
      "Mo Tu We Th Fr Sa Su      Mo Tu We Th Fr Sa Su      Mo Tu We Th Fr Sa Su\n",
      "             1  2  3       1  2  3  4  5  6  7             1  2  3  4  5\n",
      " 4  5  6  7  8  9 10       8  9 10 11 12 13 14       6  7  8  9 10 11 12\n",
      "11 12 13 14 15 16 17      15 16 17 18 19 20 21      13 14 15 16 17 18 19\n",
      "18 19 20 21 22 23 24      22 23 24 25 26 27 28      20 21 22 23 24 25 26\n",
      "25 26 27 28 29 30 31      29 30                     27 28 29 30 31\n",
      "\n"
     ]
    }
   ],
   "source": [
    "import calendar\n",
    "y=int(input('enter the year'))\n",
    "print(calendar.calendar(y))\n"
   ]
  },
  {
   "cell_type": "markdown",
   "id": "f36c8a9b",
   "metadata": {},
   "source": [
    "3. Write a python program to print date, time for today and now."
   ]
  },
  {
   "cell_type": "code",
   "execution_count": 3,
   "id": "34ea6b86",
   "metadata": {},
   "outputs": [
    {
     "name": "stdout",
     "output_type": "stream",
     "text": [
      "Current date and time : \n",
      "2023-11-03 23:18:23\n"
     ]
    }
   ],
   "source": [
    "import datetime\n",
    " \n",
    "now = datetime.datetime.now()\n",
    "\n",
    "  \n",
    "print(\"Current date and time : \")\n",
    " \n",
    "print(now.strftime(\"%Y-%m-%d %H:%M:%S\"))"
   ]
  },
  {
   "cell_type": "markdown",
   "id": "29212f30",
   "metadata": {},
   "source": [
    "4. Write a python program to add some days to your present date and print the date added."
   ]
  },
  {
   "cell_type": "code",
   "execution_count": 1,
   "id": "879bde7a",
   "metadata": {},
   "outputs": [
    {
     "name": "stdout",
     "output_type": "stream",
     "text": [
      "2023-11-22\n",
      "The updated Date is:\n",
      "2023-11-23\n"
     ]
    }
   ],
   "source": [
    "from datetime import datetime, date, timedelta\n",
    "today = date.today()\n",
    "print(today)\n",
    "print(\"The updated Date is:\")\n",
    "print(today + timedelta(days=1))"
   ]
  },
  {
   "cell_type": "markdown",
   "id": "1fcf0f55",
   "metadata": {},
   "source": [
    "# Assignment 2"
   ]
  },
  {
   "cell_type": "markdown",
   "id": "48bdf6d9",
   "metadata": {},
   "source": [
    "1. Write a python program to display a particular month of a year using calendar module"
   ]
  },
  {
   "cell_type": "code",
   "execution_count": 6,
   "id": "48ca232a",
   "metadata": {},
   "outputs": [
    {
     "name": "stdout",
     "output_type": "stream",
     "text": [
      "enter the month 10\n",
      "enter the year 2021\n",
      "    October 2021\n",
      "Mo Tu We Th Fr Sa Su\n",
      "             1  2  3\n",
      " 4  5  6  7  8  9 10\n",
      "11 12 13 14 15 16 17\n",
      "18 19 20 21 22 23 24\n",
      "25 26 27 28 29 30 31\n",
      "\n"
     ]
    }
   ],
   "source": [
    "import calendar\n",
    "m=int(input('enter the month '))\n",
    "y=int(input('enter the year '))\n",
    "print(calendar.month(y,m))"
   ]
  },
  {
   "cell_type": "markdown",
   "id": "0a9aed79",
   "metadata": {},
   "source": [
    "2.  Write a python program to print all the months of given year."
   ]
  },
  {
   "cell_type": "code",
   "execution_count": 8,
   "id": "bc529acf",
   "metadata": {},
   "outputs": [
    {
     "name": "stdout",
     "output_type": "stream",
     "text": [
      "enter the year 2021\n",
      "                                  2021\n",
      "\n",
      "      January                   February                   March\n",
      "Mo Tu We Th Fr Sa Su      Mo Tu We Th Fr Sa Su      Mo Tu We Th Fr Sa Su\n",
      "             1  2  3       1  2  3  4  5  6  7       1  2  3  4  5  6  7\n",
      " 4  5  6  7  8  9 10       8  9 10 11 12 13 14       8  9 10 11 12 13 14\n",
      "11 12 13 14 15 16 17      15 16 17 18 19 20 21      15 16 17 18 19 20 21\n",
      "18 19 20 21 22 23 24      22 23 24 25 26 27 28      22 23 24 25 26 27 28\n",
      "25 26 27 28 29 30 31                                29 30 31\n",
      "\n",
      "       April                      May                       June\n",
      "Mo Tu We Th Fr Sa Su      Mo Tu We Th Fr Sa Su      Mo Tu We Th Fr Sa Su\n",
      "          1  2  3  4                      1  2          1  2  3  4  5  6\n",
      " 5  6  7  8  9 10 11       3  4  5  6  7  8  9       7  8  9 10 11 12 13\n",
      "12 13 14 15 16 17 18      10 11 12 13 14 15 16      14 15 16 17 18 19 20\n",
      "19 20 21 22 23 24 25      17 18 19 20 21 22 23      21 22 23 24 25 26 27\n",
      "26 27 28 29 30            24 25 26 27 28 29 30      28 29 30\n",
      "                          31\n",
      "\n",
      "        July                     August                  September\n",
      "Mo Tu We Th Fr Sa Su      Mo Tu We Th Fr Sa Su      Mo Tu We Th Fr Sa Su\n",
      "          1  2  3  4                         1             1  2  3  4  5\n",
      " 5  6  7  8  9 10 11       2  3  4  5  6  7  8       6  7  8  9 10 11 12\n",
      "12 13 14 15 16 17 18       9 10 11 12 13 14 15      13 14 15 16 17 18 19\n",
      "19 20 21 22 23 24 25      16 17 18 19 20 21 22      20 21 22 23 24 25 26\n",
      "26 27 28 29 30 31         23 24 25 26 27 28 29      27 28 29 30\n",
      "                          30 31\n",
      "\n",
      "      October                   November                  December\n",
      "Mo Tu We Th Fr Sa Su      Mo Tu We Th Fr Sa Su      Mo Tu We Th Fr Sa Su\n",
      "             1  2  3       1  2  3  4  5  6  7             1  2  3  4  5\n",
      " 4  5  6  7  8  9 10       8  9 10 11 12 13 14       6  7  8  9 10 11 12\n",
      "11 12 13 14 15 16 17      15 16 17 18 19 20 21      13 14 15 16 17 18 19\n",
      "18 19 20 21 22 23 24      22 23 24 25 26 27 28      20 21 22 23 24 25 26\n",
      "25 26 27 28 29 30 31      29 30                     27 28 29 30 31\n",
      "\n"
     ]
    }
   ],
   "source": [
    "import calendar\n",
    "y=int(input('enter the year '))\n",
    "print(calendar.calendar(y))"
   ]
  },
  {
   "cell_type": "markdown",
   "id": "e960e76f",
   "metadata": {},
   "source": [
    "3. Write a python program to print a number is positive/negative using if-else."
   ]
  },
  {
   "cell_type": "code",
   "execution_count": 9,
   "id": "ca0b75f4",
   "metadata": {},
   "outputs": [
    {
     "name": "stdout",
     "output_type": "stream",
     "text": [
      "Input a number: 123\n",
      "Number is Positive.\n"
     ]
    }
   ],
   "source": [
    "n = float(input('Input a number: '))\n",
    "print('Number is Positive.' if n > 0 else 'It is Zero!' if n == 0 else 'Number is Negative.')"
   ]
  },
  {
   "cell_type": "markdown",
   "id": "add62e69",
   "metadata": {},
   "source": [
    "4. Write a python program to find largest number among three numbers."
   ]
  },
  {
   "cell_type": "code",
   "execution_count": 10,
   "id": "9d84f397",
   "metadata": {},
   "outputs": [
    {
     "name": "stdout",
     "output_type": "stream",
     "text": [
      "enter the first number 10\n",
      "enter the second number 20\n",
      "enter the third number 30\n",
      "30\n"
     ]
    }
   ],
   "source": [
    "a =int(input('enter the first number '))\n",
    "b =int(input('enter the second number '))\n",
    "c =int(input('enter the third number '))\n",
    "print(max(a, b, c))"
   ]
  },
  {
   "cell_type": "markdown",
   "id": "68293746",
   "metadata": {},
   "source": [
    "5. Write a python Program to read a number and display corresponding day using if_elif_else?"
   ]
  },
  {
   "cell_type": "code",
   "execution_count": 11,
   "id": "f90b93cb",
   "metadata": {},
   "outputs": [
    {
     "name": "stdout",
     "output_type": "stream",
     "text": [
      "Enter a number from 1 to 7: 4\n",
      "4 is Wednesday\n"
     ]
    }
   ],
   "source": [
    "day = int(input(\"Enter a number from 1 to 7: \"))\n",
    "\n",
    "if day == 1:\n",
    "    print(day, \"is Sunday\")\n",
    "elif day == 2:\n",
    "    print(day, \"is Monday\")\n",
    "elif day == 3:\n",
    "    print(day, \"is Tuesday\")\n",
    "elif day == 4:\n",
    "    print(day, \"is Wednesday\")\n",
    "elif day == 5:\n",
    "    print(day, \"is Thursday\")\n",
    "elif day == 6:\n",
    "    print(day, \"is Friday\")\n",
    "elif day == 7:\n",
    "    print(day, \"is Saturday\")\n",
    "else:\n",
    "    print(\"Wrong input! Please enter a number from 1 to 7.\")"
   ]
  },
  {
   "cell_type": "markdown",
   "id": "8e5fe42c",
   "metadata": {},
   "source": [
    "6. Write a python program to check whether the given string is palindrome or not."
   ]
  },
  {
   "cell_type": "code",
   "execution_count": 12,
   "id": "dcf74b9d",
   "metadata": {},
   "outputs": [
    {
     "name": "stdout",
     "output_type": "stream",
     "text": [
      "enter the string poop\n",
      "Yes\n"
     ]
    }
   ],
   "source": [
    "def isPalindrome(s):\n",
    "    return s == s[::-1]\n",
    " \n",
    " \n",
    " \n",
    "s = str(input('enter the string '))\n",
    "ans = isPalindrome(s)\n",
    " \n",
    "if ans:\n",
    "    print(\"Yes\")\n",
    "else:\n",
    "    print(\"No\")"
   ]
  },
  {
   "cell_type": "markdown",
   "id": "39280a19",
   "metadata": {},
   "source": [
    "7. Write a python program to find factorial of a given number using functions ."
   ]
  },
  {
   "cell_type": "code",
   "execution_count": 13,
   "id": "a7a62b92",
   "metadata": {},
   "outputs": [
    {
     "name": "stdout",
     "output_type": "stream",
     "text": [
      "The factorial of 7 is 5040\n"
     ]
    }
   ],
   "source": [
    "def factorial(x):\n",
    " \n",
    " if x == 1:\n",
    "    return 1\n",
    " else:\n",
    "    return (x * factorial(x-1))\n",
    "num = 7\n",
    "result = factorial(num)\n",
    "print(\"The factorial of\", num, \"is\", result)"
   ]
  },
  {
   "cell_type": "markdown",
   "id": "db2ffac5",
   "metadata": {},
   "source": [
    "8. Write a Python function that takes two lists and returns True if they are equal otherwise false."
   ]
  },
  {
   "cell_type": "code",
   "execution_count": 14,
   "id": "fb5347bc",
   "metadata": {},
   "outputs": [
    {
     "name": "stdout",
     "output_type": "stream",
     "text": [
      "True\n"
     ]
    }
   ],
   "source": [
    "def check_if_equal(list_1, list_2):\n",
    "    \n",
    "    if len(list_1) != len(list_2):\n",
    "        return False\n",
    "    return sorted(list_1) == sorted(list_2)\n",
    "first_list = [10, 10, 11, 12, 12, 13, 14, 16, 15, 16, 12]\n",
    "sec_list = [16, 12, 13, 14, 15, 16, 10, 11, 12, 10, 12]\n",
    "print(check_if_equal(first_list, sec_list))"
   ]
  },
  {
   "cell_type": "markdown",
   "id": "b2e901cf",
   "metadata": {},
   "source": [
    "# Assignment 3"
   ]
  },
  {
   "cell_type": "markdown",
   "id": "b761db71",
   "metadata": {},
   "source": [
    "1. we have two functions named numpy.empty() and numpy. full() to create an empty and full array."
   ]
  },
  {
   "cell_type": "markdown",
   "id": "f3fac5b8",
   "metadata": {},
   "source": [
    "(a) we create an empty array of 3X4 and a full array of 3X3 of INTEGER type."
   ]
  },
  {
   "cell_type": "code",
   "execution_count": 1,
   "id": "429fbe03",
   "metadata": {},
   "outputs": [
    {
     "name": "stdout",
     "output_type": "stream",
     "text": [
      "[[4653135 4259922 4587597 4980809]\n",
      " [5439557 4390973 6029370 7471184]\n",
      " [6750319 6357106 2097261 6881350]]\n",
      "[[5 5 5]\n",
      " [5 5 5]\n",
      " [5 5 5]]\n"
     ]
    }
   ],
   "source": [
    "import numpy\n",
    "a=numpy.empty((3,4),dtype=int)\n",
    "b=numpy.full([3,3],5,dtype=int)\n",
    "print(a)\n",
    "print(b)"
   ]
  },
  {
   "cell_type": "markdown",
   "id": "1203a9ed",
   "metadata": {},
   "source": [
    "(b) we create an empty array of 4X2 and a full array of 4X3 of INTEGER and FLOAT type."
   ]
  },
  {
   "cell_type": "code",
   "execution_count": 2,
   "id": "112cf2a2",
   "metadata": {},
   "outputs": [
    {
     "name": "stdout",
     "output_type": "stream",
     "text": [
      "[[      0       1]\n",
      " [      0 5570652]\n",
      " [   1284       0]\n",
      " [    768     635]] [[0. 0.]\n",
      " [0. 0.]\n",
      " [0. 0.]\n",
      " [0. 0.]] [[12 12 12]\n",
      " [12 12 12]\n",
      " [12 12 12]\n",
      " [12 12 12]] [[1.2 1.2 1.2]\n",
      " [1.2 1.2 1.2]\n",
      " [1.2 1.2 1.2]\n",
      " [1.2 1.2 1.2]]\n"
     ]
    }
   ],
   "source": [
    "import numpy\n",
    "a=numpy.empty((4,2),dtype=int)\n",
    "b=numpy.empty((4,2),dtype=float)\n",
    "c=numpy.full([4,3],12,dtype=int)\n",
    "d=numpy.full([4,3],1.2,dtype=float)\n",
    "print(a,b,c,d)"
   ]
  },
  {
   "cell_type": "markdown",
   "id": "69bbec04",
   "metadata": {},
   "source": [
    "(c) we create an empty array of 3X3 and a full array of 5X3 of FLOAT type."
   ]
  },
  {
   "cell_type": "code",
   "execution_count": 3,
   "id": "0cbdae1e",
   "metadata": {},
   "outputs": [
    {
     "name": "stdout",
     "output_type": "stream",
     "text": [
      "empty array [[0. 0. 0.]\n",
      " [0. 0. 0.]\n",
      " [0. 0. 0.]]\n",
      "full arry [[5.3 5.3 5.3]\n",
      " [5.3 5.3 5.3]\n",
      " [5.3 5.3 5.3]\n",
      " [5.3 5.3 5.3]\n",
      " [5.3 5.3 5.3]]\n"
     ]
    }
   ],
   "source": [
    "import numpy\n",
    "a=numpy.empty((3,3),dtype=float)\n",
    "b=numpy.full([5,3],5.3,dtype=float)\n",
    "print('empty array',  a)\n",
    "print('full arry', b)"
   ]
  },
  {
   "cell_type": "markdown",
   "id": "3c8fae34",
   "metadata": {},
   "source": [
    "2. (a)Creating a one-dimensional array with zeros using numpy.zeros()."
   ]
  },
  {
   "cell_type": "code",
   "execution_count": 4,
   "id": "3ef703d9",
   "metadata": {},
   "outputs": [
    {
     "name": "stdout",
     "output_type": "stream",
     "text": [
      "[0. 0. 0. 0.]\n"
     ]
    }
   ],
   "source": [
    "import numpy as np\n",
    " \n",
    "a= np.zeros(4)\n",
    "print(a)"
   ]
  },
  {
   "cell_type": "markdown",
   "id": "62b9efa7",
   "metadata": {},
   "source": [
    "(b)Creating a 2-dimensional array with zeros using numpy.zeros()"
   ]
  },
  {
   "cell_type": "code",
   "execution_count": 5,
   "id": "bdcc907f",
   "metadata": {},
   "outputs": [
    {
     "name": "stdout",
     "output_type": "stream",
     "text": [
      "[[0. 0. 0.]\n",
      " [0. 0. 0.]]\n"
     ]
    }
   ],
   "source": [
    "import numpy as np\n",
    " \n",
    "a= np.zeros((2,3))\n",
    "print(a)"
   ]
  },
  {
   "cell_type": "markdown",
   "id": "f29b79c3",
   "metadata": {},
   "source": [
    "(c)Creating a Multi-dimensional array with zeros using numpy.zeros()."
   ]
  },
  {
   "cell_type": "code",
   "execution_count": 6,
   "id": "e2f9c9bb",
   "metadata": {},
   "outputs": [
    {
     "name": "stdout",
     "output_type": "stream",
     "text": [
      "[[[0. 0. 0.]\n",
      "  [0. 0. 0.]\n",
      "  [0. 0. 0.]]\n",
      "\n",
      " [[0. 0. 0.]\n",
      "  [0. 0. 0.]\n",
      "  [0. 0. 0.]]]\n"
     ]
    }
   ],
   "source": [
    "import numpy as np\n",
    " \n",
    "a= np.zeros((2,3,3))\n",
    "print(a)"
   ]
  },
  {
   "cell_type": "markdown",
   "id": "8f16bcfb",
   "metadata": {},
   "source": [
    "(d)NumPy zeros array with an integer data type."
   ]
  },
  {
   "cell_type": "code",
   "execution_count": 7,
   "id": "c1cf86fc",
   "metadata": {},
   "outputs": [
    {
     "name": "stdout",
     "output_type": "stream",
     "text": [
      "[[0 0 0]\n",
      " [0 0 0]]\n"
     ]
    }
   ],
   "source": [
    "import numpy as np\n",
    " \n",
    "a= np.zeros((2,3),dtype=int)\n",
    "print(a)"
   ]
  },
  {
   "cell_type": "markdown",
   "id": "b92120d5",
   "metadata": {},
   "source": [
    "(e)NumPy Array with Tuple Data Type and Zeroes"
   ]
  },
  {
   "cell_type": "code",
   "execution_count": 11,
   "id": "f83464e3",
   "metadata": {},
   "outputs": [
    {
     "data": {
      "text/plain": [
       "tuple"
      ]
     },
     "execution_count": 11,
     "metadata": {},
     "output_type": "execute_result"
    }
   ],
   "source": [
    "import numpy as np\n",
    "tupl = (1,2,3,4)\n",
    "type(tupl)"
   ]
  },
  {
   "cell_type": "code",
   "execution_count": 12,
   "id": "a1ac45d6",
   "metadata": {},
   "outputs": [
    {
     "data": {
      "text/plain": [
       "numpy.ndarray"
      ]
     },
     "execution_count": 12,
     "metadata": {},
     "output_type": "execute_result"
    }
   ],
   "source": [
    "tupl = np.asarray(tupl)\n",
    "type(tupl)"
   ]
  },
  {
   "cell_type": "markdown",
   "id": "31b1d7fc",
   "metadata": {},
   "source": [
    "3. How to check whether specified values are present in NumPy array."
   ]
  },
  {
   "cell_type": "code",
   "execution_count": 13,
   "id": "c64a5293",
   "metadata": {},
   "outputs": [
    {
     "name": "stdout",
     "output_type": "stream",
     "text": [
      "[[2 3 0]\n",
      " [4 1 6]]\n",
      "True\n",
      "True\n",
      "False\n"
     ]
    }
   ],
   "source": [
    "import numpy as np \n",
    "  \n",
    "# creating a Numpy array \n",
    "a= np.array([[2, 3, 0], \n",
    "                    [4, 1, 6]])\n",
    "  \n",
    "print(a) \n",
    " \n",
    "print(2 in a) \n",
    "print(0 in a)\n",
    "print(8 in a)"
   ]
  },
  {
   "cell_type": "markdown",
   "id": "81987a44",
   "metadata": {},
   "source": [
    "4. NumPy – Fibonacci Series using Binet Formula"
   ]
  },
  {
   "cell_type": "markdown",
   "id": "4bf5ee1c",
   "metadata": {},
   "source": [
    "(a)To find first 5 Fibonacci numbers."
   ]
  },
  {
   "cell_type": "code",
   "execution_count": 14,
   "id": "0dd613b7",
   "metadata": {},
   "outputs": [
    {
     "name": "stdout",
     "output_type": "stream",
     "text": [
      "The first 5 numbers of Fibonacci series are [1. 1. 2. 3. 5.] . \n"
     ]
    }
   ],
   "source": [
    "import numpy as np \n",
    "a = np.arange(1, 6) \n",
    "lengthA = len(a) \n",
    "  \n",
    " \n",
    "alpha = (1 + np.sqrt(5)) / 2\n",
    "beta = (1 - np.sqrt(5)) / 2\n",
    "\n",
    "Fn = np.rint(((alpha ** a) - (beta ** a)) / (np.sqrt(5))) \n",
    "print(\"The first {} numbers of Fibonacci series are {} . \".format(lengthA, Fn)) "
   ]
  },
  {
   "cell_type": "markdown",
   "id": "0c13c1fa",
   "metadata": {},
   "source": [
    "(b)To find first ‘n’ Fibonacci numbers ."
   ]
  },
  {
   "cell_type": "code",
   "execution_count": 15,
   "id": "dc290cce",
   "metadata": {},
   "outputs": [
    {
     "name": "stdout",
     "output_type": "stream",
     "text": [
      "Enter the value of (n + 1)th number : 11\n",
      "The first 10 numbers of Fibonacci series are [ 1.  1.  2.  3.  5.  8. 13. 21. 34. 55.] . \n"
     ]
    }
   ],
   "source": [
    "import numpy as np \n",
    "Number = int(input(\"Enter the value of (n + 1)th number : \")) \n",
    "a = np.arange(1, Number) \n",
    "length = len(a) \n",
    "alpha = (1 + np.sqrt(5)) / 2\n",
    "beta = (1 - np.sqrt(5)) / 2\n",
    "Fn = np.rint(((alpha ** a) - (beta ** a)) / (np.sqrt(5))) \n",
    "print(\"The first {} numbers of Fibonacci series are {} . \".format(length, Fn)) "
   ]
  },
  {
   "cell_type": "markdown",
   "id": "c990f808",
   "metadata": {},
   "source": [
    "5. How to get all 2D diagonals of a 3D NumPy array.So, for this we are using numpy.diagonal() function of NumPy library. This function return specified diagonals from an n-dimensional array."
   ]
  },
  {
   "cell_type": "code",
   "execution_count": 16,
   "id": "6a61c99a",
   "metadata": {},
   "outputs": [
    {
     "name": "stdout",
     "output_type": "stream",
     "text": [
      "Original 3d array:\n",
      " [[[ 0  1  2  3]\n",
      "  [ 4  5  6  7]\n",
      "  [ 8  9 10 11]\n",
      "  [12 13 14 15]]\n",
      "\n",
      " [[16 17 18 19]\n",
      "  [20 21 22 23]\n",
      "  [24 25 26 27]\n",
      "  [28 29 30 31]]\n",
      "\n",
      " [[32 33 34 35]\n",
      "  [36 37 38 39]\n",
      "  [40 41 42 43]\n",
      "  [44 45 46 47]]]\n",
      "2d diagonal array:\n",
      " [[ 0  5 10 15]\n",
      " [16 21 26 31]\n",
      " [32 37 42 47]]\n"
     ]
    }
   ],
   "source": [
    "import numpy as np \n",
    "  \n",
    "  \n",
    "arr = np.arange(3 * 4 * 4).reshape(3, 4, 4) \n",
    "  \n",
    "print(\"Original 3d array:\\n\",  \n",
    "      arr) \n",
    "diag_arr = np.diagonal(arr,  \n",
    "                       axis1 = 1, \n",
    "                       axis2 = 2) \n",
    "  \n",
    "print(\"2d diagonal array:\\n\",  \n",
    "      diag_arr)"
   ]
  },
  {
   "cell_type": "markdown",
   "id": "95983175",
   "metadata": {},
   "source": [
    "# Assignment 4"
   ]
  },
  {
   "cell_type": "markdown",
   "id": "0e10c07c",
   "metadata": {},
   "source": [
    "1. (a) Write a Pandas program to create a subset of a given series based on value and condition."
   ]
  },
  {
   "cell_type": "code",
   "execution_count": 17,
   "id": "b333df35",
   "metadata": {},
   "outputs": [
    {
     "name": "stdout",
     "output_type": "stream",
     "text": [
      "Original Data Series:\n",
      "0      0\n",
      "1      1\n",
      "2      2\n",
      "3      3\n",
      "4      4\n",
      "5      5\n",
      "6      6\n",
      "7      7\n",
      "8      8\n",
      "9      9\n",
      "10    10\n",
      "dtype: int64\n",
      "nSubset of the above Data Series:\n",
      "0    0\n",
      "1    1\n",
      "2    2\n",
      "3    3\n",
      "4    4\n",
      "5    5\n",
      "dtype: int64\n"
     ]
    }
   ],
   "source": [
    "import pandas as pd\n",
    "\n",
    "s = pd.Series([0,1,2,3,4,5,6,7,8,9,10])\n",
    "print(\"Original Data Series:\")\n",
    "print(s)\n",
    "print(\"nSubset of the above Data Series:\")\n",
    "\n",
    "n = 6\n",
    "new_s = s[s < n]\n",
    "print(new_s)"
   ]
  },
  {
   "cell_type": "markdown",
   "id": "cb14fe03",
   "metadata": {},
   "source": [
    "(b) Write a Pandas program to create the mean and standard deviation of the\n",
    "data of a given Series."
   ]
  },
  {
   "cell_type": "code",
   "execution_count": 18,
   "id": "96288928",
   "metadata": {},
   "outputs": [
    {
     "name": "stdout",
     "output_type": "stream",
     "text": [
      "Original Data Series:\n",
      "0     1\n",
      "1     2\n",
      "2     3\n",
      "3     4\n",
      "4     5\n",
      "5     6\n",
      "6     7\n",
      "7     8\n",
      "8     9\n",
      "9     5\n",
      "10    3\n",
      "dtype: int64\n",
      "Mean of the said Data Series:\n",
      "4.818181818181818\n",
      "Standard deviation of the said Data Series:\n",
      "2.522624895547565\n"
     ]
    }
   ],
   "source": [
    "import pandas as pd\n",
    "s = pd.Series(data = [1,2,3,4,5,6,7,8,9,5,3])\n",
    "print(\"Original Data Series:\")\n",
    "print(s)\n",
    "print(\"Mean of the said Data Series:\")\n",
    "print(s.mean())\n",
    "print(\"Standard deviation of the said Data Series:\")\n",
    "print(s.std())"
   ]
  },
  {
   "cell_type": "markdown",
   "id": "504e8bef",
   "metadata": {},
   "source": [
    "(C) Write a Pandas program to get the items of a given series not present in\n",
    "another given series.."
   ]
  },
  {
   "cell_type": "code",
   "execution_count": 19,
   "id": "fc8c6a26",
   "metadata": {},
   "outputs": [
    {
     "name": "stdout",
     "output_type": "stream",
     "text": [
      "Original Series:\n",
      "sr1:\n",
      "0    1\n",
      "1    2\n",
      "2    3\n",
      "3    4\n",
      "4    5\n",
      "dtype: int64\n",
      "sr2:\n",
      "0     2\n",
      "1     4\n",
      "2     6\n",
      "3     8\n",
      "4    10\n",
      "dtype: int64\n",
      "\n",
      "Items of sr1 not present in sr2:\n",
      "0    1\n",
      "2    3\n",
      "4    5\n",
      "dtype: int64\n"
     ]
    }
   ],
   "source": [
    "import pandas as pd\n",
    "sr1 = pd.Series([1, 2, 3, 4, 5])\n",
    "sr2 = pd.Series([2, 4, 6, 8, 10])\n",
    "print(\"Original Series:\")\n",
    "print(\"sr1:\")\n",
    "print(sr1)\n",
    "print(\"sr2:\")\n",
    "print(sr2)\n",
    "print(\"\\nItems of sr1 not present in sr2:\")\n",
    "result = sr1[~sr1.isin(sr2)]\n",
    "print(result)"
   ]
  },
  {
   "cell_type": "markdown",
   "id": "8df4ec82",
   "metadata": {},
   "source": [
    "(d) Write a Pandas program to get the items which are not common of two given\n",
    "series.\n"
   ]
  },
  {
   "cell_type": "code",
   "execution_count": 20,
   "id": "0775c662",
   "metadata": {},
   "outputs": [
    {
     "name": "stdout",
     "output_type": "stream",
     "text": [
      "Original Series:\n",
      "sr1:\n",
      "0    1\n",
      "1    2\n",
      "2    3\n",
      "3    4\n",
      "4    5\n",
      "dtype: int64\n",
      "sr2:\n",
      "0     2\n",
      "1     4\n",
      "2     6\n",
      "3     8\n",
      "4    10\n",
      "dtype: int64\n",
      "\n",
      "Items of a given series not present in another given series:\n",
      "0     1\n",
      "2     3\n",
      "4     5\n",
      "5     6\n",
      "6     8\n",
      "7    10\n",
      "dtype: int64\n"
     ]
    }
   ],
   "source": [
    "import pandas as pd\n",
    "import numpy as np\n",
    "sr1 = pd.Series([1, 2, 3, 4, 5])\n",
    "sr2 = pd.Series([2, 4, 6, 8, 10])\n",
    "print(\"Original Series:\")\n",
    "print(\"sr1:\")\n",
    "print(sr1)\n",
    "print(\"sr2:\")\n",
    "print(sr2)\n",
    "print(\"\\nItems of a given series not present in another given series:\")\n",
    "sr11 = pd.Series(np.union1d(sr1, sr2))\n",
    "sr22 = pd.Series(np.intersect1d(sr1, sr2))\n",
    "result = sr11[~sr11.isin(sr22)]\n",
    "print(result)"
   ]
  },
  {
   "cell_type": "markdown",
   "id": "22914379",
   "metadata": {},
   "source": [
    "(e) Write a Pandas program to compute the minimum, 25th percentile, median,\n",
    "  75th, and maximum of a given series."
   ]
  },
  {
   "cell_type": "code",
   "execution_count": 21,
   "id": "760d3718",
   "metadata": {},
   "outputs": [
    {
     "name": "stdout",
     "output_type": "stream",
     "text": [
      "Original Series:\n",
      "0      3.000938\n",
      "1     11.370722\n",
      "2     14.612143\n",
      "3      8.990256\n",
      "4     13.925283\n",
      "5     12.056875\n",
      "6     10.884719\n",
      "7      5.719827\n",
      "8      9.242017\n",
      "9     11.020006\n",
      "10     8.167892\n",
      "11    11.740654\n",
      "12     7.665620\n",
      "13    13.267388\n",
      "14    12.690883\n",
      "15     9.582355\n",
      "16     7.874878\n",
      "17    14.118931\n",
      "18     8.247458\n",
      "19     5.526727\n",
      "dtype: float64\n",
      "\n",
      "Minimum, 25th percentile, median, 75th, and maximum of a given series:\n",
      "[ 3.00093811  8.09463867 10.23353705 12.21537733 14.61214321]\n"
     ]
    }
   ],
   "source": [
    "import pandas as pd\n",
    "import numpy as np\n",
    "num_state = np.random.RandomState(100)\n",
    "num_series = pd.Series(num_state.normal(10, 4, 20))\n",
    "print(\"Original Series:\")\n",
    "print(num_series)\n",
    "result = np.percentile(num_series, q=[0, 25, 50, 75, 100])\n",
    "print(\"\\nMinimum, 25th percentile, median, 75th, and maximum of a given series:\")\n",
    "print(result)"
   ]
  },
  {
   "cell_type": "markdown",
   "id": "b02a1667",
   "metadata": {},
   "source": [
    "2.(a)Write a Pandas program to calculate the frequency counts of each unique\n",
    "value of a given series."
   ]
  },
  {
   "cell_type": "code",
   "execution_count": 22,
   "id": "1847c5c7",
   "metadata": {},
   "outputs": [
    {
     "name": "stdout",
     "output_type": "stream",
     "text": [
      "Original Series:\n",
      "0     0\n",
      "1     4\n",
      "2     2\n",
      "3     5\n",
      "4     8\n",
      "5     9\n",
      "6     4\n",
      "7     5\n",
      "8     7\n",
      "9     2\n",
      "10    7\n",
      "11    3\n",
      "12    0\n",
      "13    4\n",
      "14    9\n",
      "15    7\n",
      "16    3\n",
      "17    5\n",
      "18    4\n",
      "19    0\n",
      "20    7\n",
      "21    3\n",
      "22    8\n",
      "23    2\n",
      "24    3\n",
      "25    5\n",
      "26    3\n",
      "27    1\n",
      "28    0\n",
      "29    7\n",
      "30    5\n",
      "31    5\n",
      "32    9\n",
      "33    2\n",
      "34    3\n",
      "35    5\n",
      "36    7\n",
      "37    7\n",
      "38    1\n",
      "39    5\n",
      "dtype: object\n",
      "Frequency of each unique value of the said series.\n",
      "5    8\n",
      "7    7\n",
      "3    6\n",
      "0    4\n",
      "4    4\n",
      "2    4\n",
      "9    3\n",
      "8    2\n",
      "1    2\n",
      "Name: count, dtype: int64\n"
     ]
    }
   ],
   "source": [
    "import pandas as pd\n",
    "import numpy as np\n",
    "num_series = pd.Series(np.take(list('0123456789'), np.random.randint(10, size=40)))\n",
    "print(\"Original Series:\")\n",
    "print(num_series)\n",
    "print(\"Frequency of each unique value of the said series.\")\n",
    "result = num_series.value_counts()\n",
    "print(result)"
   ]
  },
  {
   "cell_type": "markdown",
   "id": "083919d2",
   "metadata": {},
   "source": [
    "(b) Write a Pandas program to display most frequent value in a given series and\n",
    "replace everything else as 'Other' in the series."
   ]
  },
  {
   "cell_type": "code",
   "execution_count": 32,
   "id": "c4f366b9",
   "metadata": {},
   "outputs": [
    {
     "name": "stdout",
     "output_type": "stream",
     "text": [
      "Printing the most frequent element of series\n"
     ]
    },
    {
     "data": {
      "text/plain": [
       "0    e\n",
       "dtype: object"
      ]
     },
     "metadata": {},
     "output_type": "display_data"
    },
    {
     "name": "stdout",
     "output_type": "stream",
     "text": [
      "0     other\n",
      "1         e\n",
      "2         e\n",
      "3     other\n",
      "4     other\n",
      "5     other\n",
      "6     other\n",
      "7     other\n",
      "8     other\n",
      "9         e\n",
      "10        e\n",
      "11    other\n",
      "12    other\n",
      "dtype: object\n"
     ]
    }
   ],
   "source": [
    "import pandas as pd \n",
    "series = pd.Series(['g', 'e', 'e', 'k', 's',  \n",
    "                    'f', 'o', 'r',  \n",
    "                    'g', 'e', 'e', 'k', 's']) \n",
    "\n",
    "freq = series.value_counts() \n",
    "\n",
    "print(\"Printing the most frequent element of series\") \n",
    "display(series.mode()); \n",
    "series[~series.isin(freq .index[:1])] = 'other'\n",
    "print(series) "
   ]
  },
  {
   "cell_type": "markdown",
   "id": "5a92e855",
   "metadata": {},
   "source": [
    "(C) Write a Pandas program to find the positions of numbers that are multiples of\n",
    "5 of a given series."
   ]
  },
  {
   "cell_type": "code",
   "execution_count": 3,
   "id": "4e951bd8",
   "metadata": {},
   "outputs": [
    {
     "name": "stdout",
     "output_type": "stream",
     "text": [
      "Original Series:\n",
      "0    6\n",
      "1    5\n",
      "2    2\n",
      "3    6\n",
      "4    8\n",
      "5    3\n",
      "6    5\n",
      "7    7\n",
      "8    3\n",
      "dtype: int32\n",
      "Positions of numbers that are multiples of 5:\n",
      "(array([1, 6], dtype=int64),)\n"
     ]
    }
   ],
   "source": [
    "import pandas as pd\n",
    "import numpy as np\n",
    "num_series = pd.Series(np.random.randint(1, 10, 9))\n",
    "print(\"Original Series:\")\n",
    "print(num_series)\n",
    "result = np.where(num_series % 5==0)\n",
    "print(\"Positions of numbers that are multiples of 5:\")\n",
    "print(result)"
   ]
  },
  {
   "cell_type": "markdown",
   "id": "3724dc55",
   "metadata": {},
   "source": [
    "3.(a) Write a Pandas program convert the first and last character of each word to\n",
    "upper case in each word of a given series."
   ]
  },
  {
   "cell_type": "code",
   "execution_count": 34,
   "id": "ca4dd8be",
   "metadata": {},
   "outputs": [
    {
     "name": "stdout",
     "output_type": "stream",
     "text": [
      "Original Series:\n",
      "0       php\n",
      "1    python\n",
      "2      java\n",
      "3        c#\n",
      "dtype: object\n",
      "\n",
      "First and last character of each word to upper case:\n",
      "0       PhP\n",
      "1    PythoN\n",
      "2      JavA\n",
      "3        C#\n",
      "dtype: object\n"
     ]
    }
   ],
   "source": [
    "import pandas as pd\n",
    "series1 = pd.Series(['php', 'python', 'java', 'c#'])\n",
    "print(\"Original Series:\")\n",
    "print(series1)\n",
    "result = series1.map(lambda x: x[0].upper() + x[1:-1] + x[-1].upper())\n",
    "print(\"\\nFirst and last character of each word to upper case:\")\n",
    "print(result)"
   ]
  },
  {
   "cell_type": "markdown",
   "id": "991b81fd",
   "metadata": {},
   "source": [
    "(b) Write a Pandas program to compute difference of differences between\n",
    "consecutive numbers of a given series."
   ]
  },
  {
   "cell_type": "code",
   "execution_count": 35,
   "id": "da262097",
   "metadata": {},
   "outputs": [
    {
     "name": "stdout",
     "output_type": "stream",
     "text": [
      "Original Series:\n",
      "0     1\n",
      "1     3\n",
      "2     5\n",
      "3     8\n",
      "4    10\n",
      "5    11\n",
      "6    15\n",
      "dtype: int64\n",
      "\n",
      "Difference of differences between consecutive numbers of the said series:\n",
      "[nan, 2.0, 2.0, 3.0, 2.0, 1.0, 4.0]\n",
      "[nan, nan, 0.0, 1.0, -1.0, -1.0, 3.0]\n"
     ]
    }
   ],
   "source": [
    "import pandas as pd\n",
    "series1 = pd.Series([1, 3, 5, 8, 10, 11, 15])\n",
    "print(\"Original Series:\")\n",
    "print(series1)\n",
    "print(\"\\nDifference of differences between consecutive numbers of the said series:\")\n",
    "print(series1.diff().tolist())\n",
    "print(series1.diff().diff().tolist())"
   ]
  },
  {
   "cell_type": "markdown",
   "id": "5e9d8d1d",
   "metadata": {},
   "source": [
    "(C) Write a Pandas program to get the day of month, day of year, week number\n",
    "and day of week from a given series of date strings."
   ]
  },
  {
   "cell_type": "code",
   "execution_count": 1,
   "id": "16af0c44",
   "metadata": {},
   "outputs": [
    {
     "data": {
      "text/html": [
       "<div>\n",
       "<style scoped>\n",
       "    .dataframe tbody tr th:only-of-type {\n",
       "        vertical-align: middle;\n",
       "    }\n",
       "\n",
       "    .dataframe tbody tr th {\n",
       "        vertical-align: top;\n",
       "    }\n",
       "\n",
       "    .dataframe thead th {\n",
       "        text-align: right;\n",
       "    }\n",
       "</style>\n",
       "<table border=\"1\" class=\"dataframe\">\n",
       "  <thead>\n",
       "    <tr style=\"text-align: right;\">\n",
       "      <th></th>\n",
       "      <th>day</th>\n",
       "      <th>month</th>\n",
       "      <th>year</th>\n",
       "    </tr>\n",
       "  </thead>\n",
       "  <tbody>\n",
       "    <tr>\n",
       "      <th>0</th>\n",
       "      <td>5</td>\n",
       "      <td>12</td>\n",
       "      <td>22</td>\n",
       "    </tr>\n",
       "    <tr>\n",
       "      <th>1</th>\n",
       "      <td>22</td>\n",
       "      <td>10</td>\n",
       "      <td>23</td>\n",
       "    </tr>\n",
       "  </tbody>\n",
       "</table>\n",
       "</div>"
      ],
      "text/plain": [
       "   day  month  year\n",
       "0    5     12    22\n",
       "1   22     10    23"
      ]
     },
     "execution_count": 1,
     "metadata": {},
     "output_type": "execute_result"
    }
   ],
   "source": [
    "import pandas as pd\n",
    "da = [\"5,12,22\" , '22/10/23']\n",
    "dat = pd.DataFrame(da , columns = [\"date\"] )\n",
    "df = pd.DataFrame(columns=['day','month','year'])\n",
    "for i in range(0,2,1):\n",
    "    dd = dat[\"date\"][i]\n",
    "    month = 0\n",
    "    day = 0\n",
    "    year = 0\n",
    "    c = 0\n",
    "    va = 0\n",
    "    for j in range(0,len(dd),1):\n",
    "        if(dd[j].isdigit() != True):\n",
    "            if( c == 0 ):\n",
    "                day = va\n",
    "            if(c == 1):\n",
    "                month = va\n",
    "            c = c + 1\n",
    "            \n",
    "            va = 0\n",
    "        else:\n",
    "            va = va*10 + int(dd[j])\n",
    "            \n",
    "    year = va\n",
    "    df.loc[len(df.index)] = [day , month , year]\n",
    "df\n"
   ]
  },
  {
   "cell_type": "markdown",
   "id": "10a826f8",
   "metadata": {},
   "source": [
    "# Assignment 5"
   ]
  },
  {
   "cell_type": "markdown",
   "id": "86435625",
   "metadata": {},
   "source": [
    "1. Write a Pandas program to create and display a Data Frame from a\n",
    "specified dictionary data which has the index labels. Data Frame:\n",
    "exam_data = {'name': ['RISHABH KUMAR', 'SATYAM SINGH', 'SAURABH MISHRA',\n",
    "'SHAURYA SHAKYA', 'SHIVAM','RAJESH','ARUSH','YASH','VIJAY','SHASHANK'],\n",
    "'score': [12.5, 9, 16.5, np.nan, 9, 20, 14.5, np.nan, 8, 19],\n",
    "'attempts': [1, 3, 2, 3, 2, 3, 1, 1, 2, 1],\n",
    "'qualify': ['yes', 'no', 'yes', 'no', 'no', 'yes', 'yes', 'no', 'no', 'yes']}\n",
    "labels = ['a', 'b', 'c', 'd', 'e', 'f', 'g', 'h', 'i', 'j']"
   ]
  },
  {
   "cell_type": "code",
   "execution_count": 41,
   "id": "e79ea91d",
   "metadata": {},
   "outputs": [
    {
     "name": "stdout",
     "output_type": "stream",
     "text": [
      "              name  score  attempts qualify\n",
      "a    RISHABH KUMAR   12.5         1     yes\n",
      "b     SATYAM KUMAR    9.0         3      no\n",
      "c   SAURABH MISHRA   16.5         2     yes\n",
      "d  SHAURIYA SHAKYA    NaN         3      no\n",
      "e           SHIVAM    9.0         2      no\n",
      "f           RAJESH   20.0         3     yes\n",
      "g         SHASHANK   14.5         1     yes\n",
      "h            ARUSH    NaN         1      no\n",
      "i            VIJAY    8.0         2      no\n",
      "j             YASH   19.0         1     yes\n"
     ]
    }
   ],
   "source": [
    "import pandas as pd\n",
    "import numpy as np\n",
    "\n",
    "exam_data  = {'name': ['RISHABH KUMAR', 'SATYAM KUMAR', 'SAURABH MISHRA', 'SHAURIYA SHAKYA', 'SHIVAM',\n",
    "                       'RAJESH','SHASHANK','ARUSH','VIJAY','YASH'],\n",
    "        'score': [12.5, 9, 16.5, np.nan, 9, 20, 14.5, np.nan, 8, 19],\n",
    "        'attempts': [1, 3, 2, 3, 2, 3, 1, 1, 2, 1],\n",
    "        'qualify': ['yes', 'no', 'yes', 'no', 'no', 'yes', 'yes', 'no', 'no', 'yes']}\n",
    "labels = ['a', 'b', 'c', 'd', 'e', 'f', 'g', 'h', 'i', 'j']\n",
    "\n",
    "df = pd.DataFrame(exam_data , index=labels)\n",
    "print(df)"
   ]
  },
  {
   "cell_type": "markdown",
   "id": "50eb2520",
   "metadata": {},
   "source": [
    "2. Write a Pandas program to display a summary of the basic information\n",
    "about a specified Data Frame and its data. Data Frame:\n",
    "exam_data = {'name': ['Anastasia', 'Dima', 'Katherine', 'James', 'Emily',\n",
    "'Michael', 'Matthew', 'Laura', 'Kevin', 'Jonas'],\n",
    "'score': [12.5, 9, 16.5, np.nan, 9, 20, 14.5, np.nan, 8, 19],\n",
    "'attempts': [1, 3, 2, 3, 2, 3, 1, 1, 2, 1],\n",
    "'qualify': ['yes', 'no', 'yes', 'no', 'no', 'yes', 'yes', 'no', 'no', 'yes']}\n",
    "labels = ['a', 'b', 'c', 'd', 'e', 'f', 'g', 'h', 'i', 'j'"
   ]
  },
  {
   "cell_type": "code",
   "execution_count": 42,
   "id": "12b83a16",
   "metadata": {},
   "outputs": [
    {
     "name": "stdout",
     "output_type": "stream",
     "text": [
      "Summary of the basic information about this DataFrame and its data:\n",
      "<class 'pandas.core.frame.DataFrame'>\n",
      "Index: 10 entries, a to j\n",
      "Data columns (total 4 columns):\n",
      " #   Column    Non-Null Count  Dtype  \n",
      "---  ------    --------------  -----  \n",
      " 0   name      10 non-null     object \n",
      " 1   score     8 non-null      float64\n",
      " 2   attempts  10 non-null     int64  \n",
      " 3   qualify   10 non-null     object \n",
      "dtypes: float64(1), int64(1), object(2)\n",
      "memory usage: 400.0+ bytes\n",
      "None\n"
     ]
    }
   ],
   "source": [
    "import pandas as pd\n",
    "import numpy as np\n",
    "\n",
    "exam_data  = {'name': ['Anastasia', 'Dima', 'Katherine', 'James', 'Emily', \n",
    "                       'Michael', 'Matthew', 'Laura', 'Kevin', 'Jonas'],\n",
    "        'score': [12.5, 9, 16.5, np.nan, 9, 20, 14.5, np.nan, 8, 19],\n",
    "        'attempts': [1, 3, 2, 3, 2, 3, 1, 1, 2, 1],\n",
    "        'qualify': ['yes', 'no', 'yes', 'no', 'no', 'yes', 'yes', 'no', 'no', 'yes']}\n",
    "labels = ['a', 'b', 'c', 'd', 'e', 'f', 'g', 'h', 'i', 'j']\n",
    "\n",
    "df = pd.DataFrame(exam_data , index=labels)\n",
    "print(\"Summary of the basic information about this DataFrame and its data:\")\n",
    "print(df.info())"
   ]
  },
  {
   "cell_type": "markdown",
   "id": "1c887f46",
   "metadata": {},
   "source": [
    "3. Write a Pandas program to select the 'name' and 'score' columns from\n",
    "the following Data Frame. Data Frame:\n",
    "exam_data = {'name': ['Anastasia', 'Dima', 'Katherine', 'James', 'Emily',\n",
    "'Michael', 'Matthew', 'Laura', 'Kevin', 'Jonas'],\n",
    "'score': [12.5, 9, 16.5, np.nan, 9, 20, 14.5, np.nan, 8, 19],\n",
    "'attempts': [1, 3, 2, 3, 2, 3, 1, 1, 2, 1],\n",
    "'qualify': ['yes', 'no', 'yes', 'no', 'no', 'yes', 'yes', 'no', 'no', 'yes']}\n",
    "labels = ['a', 'b', 'c', 'd', 'e', 'f', 'g', 'h', 'i', 'j"
   ]
  },
  {
   "cell_type": "code",
   "execution_count": 43,
   "id": "ea36c944",
   "metadata": {},
   "outputs": [
    {
     "name": "stdout",
     "output_type": "stream",
     "text": [
      "Select specific columns:\n",
      "        name  score\n",
      "a  Anastasia   12.5\n",
      "b       Dima    9.0\n",
      "c  Katherine   16.5\n",
      "d      James    NaN\n",
      "e      Emily    9.0\n",
      "f    Michael   20.0\n",
      "g    Matthew   14.5\n",
      "h      Laura    NaN\n",
      "i      Kevin    8.0\n",
      "j      Jonas   19.0\n"
     ]
    }
   ],
   "source": [
    "import pandas as pd\n",
    "import numpy as np\n",
    "\n",
    "exam_data  = {'name': ['Anastasia', 'Dima', 'Katherine', 'James', 'Emily', \n",
    "                       'Michael', 'Matthew', 'Laura', 'Kevin', 'Jonas'],\n",
    "        'score': [12.5, 9, 16.5, np.nan, 9, 20, 14.5, np.nan, 8, 19],\n",
    "        'attempts': [1, 3, 2, 3, 2, 3, 1, 1, 2, 1],\n",
    "        'qualify': ['yes', 'no', 'yes', 'no', 'no', 'yes', 'yes', 'no', 'no', 'yes']}\n",
    "labels = ['a', 'b', 'c', 'd', 'e', 'f', 'g', 'h', 'i', 'j']\n",
    "\n",
    "df = pd.DataFrame(exam_data , index=labels)\n",
    "print(\"Select specific columns:\")\n",
    "print(df[['name', 'score']])"
   ]
  },
  {
   "cell_type": "markdown",
   "id": "9eb5daad",
   "metadata": {},
   "source": [
    "4. Write a Pandas program to select the specified columns and rows from\n",
    "a given Data Frame.Select 'name' and 'score' columns in rows 1, 3, 5, 6\n",
    "from the following data frame. Data Frame:\n",
    "exam_data = {'name': ['SHREYANSH', 'SAMRIDDHI', '', 'James', 'Emily',\n",
    "'Michael', 'Matthew', 'Laura', 'Kevin', 'Jonas'],\n",
    "'score': [12.5, 9, 16.5, np.nan, 9, 20, 14.5, np.nan, 8, 19],\n",
    "'attempts': [1, 3, 2, 3, 2, 3, 1, 1, 2, 1],\n",
    "'qualify': ['yes', 'no', 'yes', 'no', 'no', 'yes', 'yes', 'no', 'no', 'yes']}\n",
    "labels = ['a', 'b', 'c', 'd', 'e', 'f', 'g', 'h', 'i', '"
   ]
  },
  {
   "cell_type": "code",
   "execution_count": 44,
   "id": "384ef60b",
   "metadata": {},
   "outputs": [
    {
     "name": "stdout",
     "output_type": "stream",
     "text": [
      "Select specific columns and rows:\n",
      "   score qualify\n",
      "b    9.0      no\n",
      "d    NaN      no\n",
      "f   20.0     yes\n",
      "g   14.5     yes\n"
     ]
    }
   ],
   "source": [
    "import pandas as pd\n",
    "import numpy as np\n",
    "\n",
    "exam_data  = {'name': ['Anastasia', 'Dima', 'Katherine', 'James', 'Emily', \n",
    "                       'Michael', 'Matthew', 'Laura', 'Kevin', 'Jonas'],\n",
    "        'score': [12.5, 9, 16.5, np.nan, 9, 20, 14.5, np.nan, 8, 19],\n",
    "        'attempts': [1, 3, 2, 3, 2, 3, 1, 1, 2, 1],\n",
    "        'qualify': ['yes', 'no', 'yes', 'no', 'no', 'yes', 'yes', 'no', 'no', 'yes']}\n",
    "labels = ['a', 'b', 'c', 'd', 'e', 'f', 'g', 'h', 'i', 'j']\n",
    "\n",
    "df = pd.DataFrame(exam_data , index=labels)\n",
    "print(\"Select specific columns and rows:\")\n",
    "print(df.iloc[[1, 3, 5, 6], [1, 3]])"
   ]
  },
  {
   "cell_type": "markdown",
   "id": "0b21a7f8",
   "metadata": {},
   "source": [
    "5. Write a Pandas program to select the rows the score is between 15 and\n",
    "20 (inclusive). Data Frame:\n",
    "exam_data = {'name': ['Anastasia', 'Dima', 'Katherine', 'James', 'Emily',\n",
    "'Michael', 'Matthew', 'Laura', 'Kevin', 'Jonas'],\n",
    "'score': [12.5, 9, 16.5, np.nan, 9, 20, 14.5, np.nan, 8, 19],\n",
    "'attempts': [1, 3, 2, 3, 2, 3, 1, 1, 2, 1],\n",
    "'qualify': ['yes', 'no', 'yes', 'no', 'no', 'yes', 'yes', 'no', 'no', 'yes']}\n",
    "labels = ['a', 'b', 'c', 'd', 'e', 'f', 'g', labels = ['a', 'b', 'c', 'd', 'e', 'f', 'g', 'h', 'i', 'j']"
   ]
  },
  {
   "cell_type": "code",
   "execution_count": 45,
   "id": "aa8ba9d4",
   "metadata": {},
   "outputs": [
    {
     "name": "stdout",
     "output_type": "stream",
     "text": [
      "Rows where score between 15 and 20 (inclusive):\n",
      "        name  score  attempts qualify\n",
      "c  Katherine   16.5         2     yes\n",
      "f    Michael   20.0         3     yes\n",
      "j      Jonas   19.0         1     yes\n"
     ]
    }
   ],
   "source": [
    "import pandas as pd\n",
    "import numpy as np\n",
    "exam_data  = {'name': ['Anastasia', 'Dima', 'Katherine', 'James', 'Emily', \n",
    "                       'Michael', 'Matthew', 'Laura', 'Kevin', 'Jonas'],\n",
    "        'score': [12.5, 9, 16.5, np.nan, 9, 20, 14.5, np.nan, 8, 19],\n",
    "        'attempts': [1, 3, 2, 3, 2, 3, 1, 1, 2, 1],\n",
    "        'qualify': ['yes', 'no', 'yes', 'no', 'no', 'yes', 'yes', 'no', 'no', 'yes']}\n",
    "labels = ['a', 'b', 'c', 'd', 'e', 'f', 'g', 'h', 'i', 'j']\n",
    "\n",
    "df = pd.DataFrame(exam_data , index=labels)\n",
    "print(\"Rows where score between 15 and 20 (inclusive):\")\n",
    "print(df[df['score'].between(15, 20)])"
   ]
  },
  {
   "cell_type": "markdown",
   "id": "2f7383b0",
   "metadata": {},
   "source": [
    "6. Write a Pandas program to change the score in row 'd' to 11.5. Data Frame:\n",
    "exam_data = {'name': ['Anastasia', 'Dima', 'Katherine', 'James', 'Emily',\n",
    "'Michael', 'Matthew', 'Laura', 'Kevin', 'Jonas'],\n",
    "'score': [12.5, 9, 16.5, np.nan, 9, 20, 14.5, np.nan, 8, 19],\n",
    "'attempts': [1, 3, 2, 3, 2, 3, 1, 1, 2, 1],\n",
    "'qualify': ['yes', 'no', 'yes', 'no', 'no', 'yes', 'yes', 'no', 'no', 'yes']}\n",
    "labels = ['a', 'b', 'c', 'd', 'e', 'f', 'g', 'h', 'i', 'j'"
   ]
  },
  {
   "cell_type": "code",
   "execution_count": 46,
   "id": "e218d91b",
   "metadata": {},
   "outputs": [
    {
     "name": "stdout",
     "output_type": "stream",
     "text": [
      "\n",
      "Original data frame:\n",
      "        name  score  attempts qualify\n",
      "a  Anastasia   12.5         1     yes\n",
      "b       Dima    9.0         3      no\n",
      "c  Katherine   16.5         2     yes\n",
      "d      James    NaN         3      no\n",
      "e      Emily    9.0         2      no\n",
      "f    Michael   20.0         3     yes\n",
      "g    Matthew   14.5         1     yes\n",
      "h      Laura    NaN         1      no\n",
      "i      Kevin    8.0         2      no\n",
      "j      Jonas   19.0         1     yes\n",
      "\n",
      "Change the score in row 'd' to 11.5:\n",
      "        name  score  attempts qualify\n",
      "a  Anastasia   12.5         1     yes\n",
      "b       Dima    9.0         3      no\n",
      "c  Katherine   16.5         2     yes\n",
      "d      James   11.5         3      no\n",
      "e      Emily    9.0         2      no\n",
      "f    Michael   20.0         3     yes\n",
      "g    Matthew   14.5         1     yes\n",
      "h      Laura    NaN         1      no\n",
      "i      Kevin    8.0         2      no\n",
      "j      Jonas   19.0         1     yes\n"
     ]
    }
   ],
   "source": [
    "import pandas as pd\n",
    "import numpy as np\n",
    "exam_data  = {'name': ['Anastasia', 'Dima', 'Katherine', 'James', 'Emily', \n",
    "                       'Michael', 'Matthew', 'Laura', 'Kevin', 'Jonas'],\n",
    "        'score': [12.5, 9, 16.5, np.nan, 9, 20, 14.5, np.nan, 8, 19],\n",
    "        'attempts': [1, 3, 2, 3, 2, 3, 1, 1, 2, 1],\n",
    "        'qualify': ['yes', 'no', 'yes', 'no', 'no', 'yes', 'yes', 'no', 'no', 'yes']}\n",
    "labels = ['a', 'b', 'c', 'd', 'e', 'f', 'g', 'h', 'i', 'j']\n",
    "\n",
    "df = pd.DataFrame(exam_data , index=labels)\n",
    "print(\"\\nOriginal data frame:\")\n",
    "print(df)\n",
    "print(\"\\nChange the score in row 'd' to 11.5:\")\n",
    "df.loc['d', 'score'] = 11.5\n",
    "print(df)"
   ]
  },
  {
   "cell_type": "markdown",
   "id": "69a1faaf",
   "metadata": {},
   "source": [
    "7. Write a Pandas program to calculate the sum of the examination\n",
    "attempts by the students. Data Frame:\n",
    "exam_data = {'name': ['Anastasia', 'Dima', 'Katherine', 'James', 'Emily',\n",
    "'Michael', 'Matthew', 'Laura', 'Kevin', 'Jonas'],\n",
    "'score': [12.5, 9, 16.5, np.nan, 9, 20, 14.5, np.nan, 8, 19],\n",
    "'attempts': [1, 3, 2, 3, 2, 3, 1, 1, 2, 1],\n",
    "'qualify': ['yes', 'no', 'yes', 'no', 'no', 'yes', 'yes', 'no', 'no', 'yes']}\n",
    "labels = ['a', 'b', 'c', 'd', 'e', 'f', 'g', 'h"
   ]
  },
  {
   "cell_type": "code",
   "execution_count": 47,
   "id": "9c0540ad",
   "metadata": {},
   "outputs": [
    {
     "name": "stdout",
     "output_type": "stream",
     "text": [
      "\n",
      "Sum of the examination attempts by the students:\n",
      "19\n"
     ]
    }
   ],
   "source": [
    "import pandas as pd\n",
    "import numpy as np\n",
    "exam_data  = {'name': ['Anastasia', 'Dima', 'Katherine', 'James', 'Emily', \n",
    "                       'Michael', 'Matthew', 'Laura', 'Kevin', 'Jonas'],\n",
    "        'score': [12.5, 9, 16.5, np.nan, 9, 20, 14.5, np.nan, 8, 19],\n",
    "        'attempts': [1, 3, 2, 3, 2, 3, 1, 1, 2, 1],\n",
    "        'qualify': ['yes', 'no', 'yes', 'no', 'no', 'yes', 'yes', 'no', 'no', 'yes']}\n",
    "labels = ['a', 'b', 'c', 'd', 'e', 'f', 'g', 'h', 'i', 'j']\n",
    "\n",
    "df = pd.DataFrame(exam_data , index=labels)\n",
    "print(\"\\nSum of the examination attempts by the students:\")\n",
    "print(df['attempts'].sum())"
   ]
  },
  {
   "cell_type": "markdown",
   "id": "b91697b9",
   "metadata": {},
   "source": [
    "8. Write a Pandas program to calculate the mean of all students' scores. data frame:\n",
    "exam_data = {'name': ['Anastasia', 'Dima', 'Katherine', 'James', 'Emily',\n",
    "'Michael', 'Matthew', 'Laura', 'Kevin', 'Jonas'],\n",
    "'score': [12.5, 9, 16.5, np.nan, 9, 20, 14.5, np.nan, 8, 19],\n",
    "'attempts': [1, 3, 2, 3, 2, 3, 1, 1, 2, 1],\n",
    "'qualify': ['yes', 'no', 'yes', 'no', 'no', 'yes', 'yes', 'no', 'no', 'yes']}\n",
    "labels = ['a', 'b', 'c', 'd', 'e', 'f', 'g', '"
   ]
  },
  {
   "cell_type": "code",
   "execution_count": 48,
   "id": "df22c056",
   "metadata": {},
   "outputs": [
    {
     "name": "stdout",
     "output_type": "stream",
     "text": [
      "\n",
      "Mean score for each different student in data frame:\n",
      "13.5625\n"
     ]
    }
   ],
   "source": [
    "import pandas as pd\n",
    "import numpy as np\n",
    "exam_data  = {'name': ['Anastasia', 'Dima', 'Katherine', 'James', 'Emily', \n",
    "                       'Michael', 'Matthew', 'Laura', 'Kevin', 'Jonas'],\n",
    "        'score': [12.5, 9, 16.5, np.nan, 9, 20, 14.5, np.nan, 8, 19],\n",
    "        'attempts': [1, 3, 2, 3, 2, 3, 1, 1, 2, 1],\n",
    "        'qualify': ['yes', 'no', 'yes', 'no', 'no', 'yes', 'yes', 'no', 'no', 'yes']}\n",
    "labels = ['a', 'b', 'c', 'd', 'e', 'f', 'g', 'h', 'i', 'j']\n",
    "\n",
    "df = pd.DataFrame(exam_data , index=labels)\n",
    "print(\"\\nMean score for each different student in data frame:\")\n",
    "print(df['score'].mean())"
   ]
  },
  {
   "cell_type": "markdown",
   "id": "7bacd6d6",
   "metadata": {},
   "source": [
    "# Assignment 6"
   ]
  },
  {
   "cell_type": "markdown",
   "id": "d9414da5",
   "metadata": {},
   "source": [
    "1. Write a Program to Implement 8-Puzzle "
   ]
  },
  {
   "cell_type": "code",
   "execution_count": 49,
   "id": "7e9549ae",
   "metadata": {},
   "outputs": [
    {
     "name": "stdout",
     "output_type": "stream",
     "text": [
      "1  2  3  \n",
      "5  6  0  \n",
      "7  8  4  \n",
      "\n",
      "1  2  3  \n",
      "5  0  6  \n",
      "7  8  4  \n",
      "\n",
      "1  2  3  \n",
      "5  8  6  \n",
      "7  0  4  \n",
      "\n",
      "1  2  3  \n",
      "5  8  6  \n",
      "0  7  4  \n",
      "\n"
     ]
    }
   ],
   "source": [
    "import copy  \n",
    "  \n",
    "from heapq import heappush, heappop  \n",
    "n = 3  \n",
    "rows = [ 1, 0, -1, 0 ]  \n",
    "cols = [ 0, -1, 0, 1 ]  \n",
    "class priorityQueue:  \n",
    "      \n",
    "       \n",
    "    def __init__(self):  \n",
    "        self.heap = []  \n",
    "  \n",
    "      \n",
    "    def push(self, key):  \n",
    "        heappush(self.heap, key)  \n",
    "  \n",
    "     \n",
    "    def pop(self):  \n",
    "        return heappop(self.heap)  \n",
    "  \n",
    "       \n",
    "    def empty(self):  \n",
    "        if not self.heap:  \n",
    "            return True  \n",
    "        else:  \n",
    "            return False  \n",
    "  \n",
    "   \n",
    "class nodes:  \n",
    "      \n",
    "    def __init__(self, parent, mats, empty_tile_posi,  \n",
    "                costs, levels):  \n",
    "          \n",
    "        self.parent = parent  \n",
    "  \n",
    "         \n",
    "        self.mats = mats  \n",
    "  \n",
    "         \n",
    "        self.empty_tile_posi = empty_tile_posi  \n",
    "  \n",
    "        \n",
    "        self.costs = costs  \n",
    "  \n",
    "        \n",
    "        self.levels = levels  \n",
    "   \n",
    "    def __lt__(self, nxt):  \n",
    "        return self.costs < nxt.costs  \n",
    "  \n",
    "  \n",
    "def calculateCosts(mats, final) -> int:  \n",
    "      \n",
    "    count = 0  \n",
    "    for i in range(n):  \n",
    "        for j in range(n):  \n",
    "            if ((mats[i][j]) and  \n",
    "                (mats[i][j] != final[i][j])):  \n",
    "                count += 1  \n",
    "                  \n",
    "    return count  \n",
    "  \n",
    "def newNodes(mats, empty_tile_posi, new_empty_tile_posi,  \n",
    "            levels, parent, final) -> nodes:  \n",
    "                  \n",
    "       \n",
    "    new_mats = copy.deepcopy(mats)  \n",
    "  \n",
    "    \n",
    "    x1 = empty_tile_posi[0]  \n",
    "    y1 = empty_tile_posi[1]  \n",
    "    x2 = new_empty_tile_posi[0]  \n",
    "    y2 = new_empty_tile_posi[1]  \n",
    "    new_mats[x1][y1], new_mats[x2][y2] = new_mats[x2][y2], new_mats[x1][y1]  \n",
    "     \n",
    "    costs = calculateCosts(new_mats, final)  \n",
    "  \n",
    "    new_nodes = nodes(parent, new_mats, new_empty_tile_posi,  \n",
    "                    costs, levels)  \n",
    "    return new_nodes  \n",
    "  \n",
    "  \n",
    "def printMatsrix(mats):  \n",
    "      \n",
    "    for i in range(n):  \n",
    "        for j in range(n):  \n",
    "            print(\"%d \" % (mats[i][j]), end = \" \")  \n",
    "              \n",
    "        print()  \n",
    "  \n",
    " \n",
    "   \n",
    "def isSafe(x, y):  \n",
    "      \n",
    "    return x >= 0 and x < n and y >= 0 and y < n  \n",
    "  \n",
    "   \n",
    "def printPath(root):  \n",
    "      \n",
    "    if root == None:  \n",
    "        return  \n",
    "      \n",
    "    printPath(root.parent)  \n",
    "    printMatsrix(root.mats)  \n",
    "    print()  \n",
    "  \n",
    "   \n",
    "def solve(initial, empty_tile_posi, final):  \n",
    "      \n",
    "      \n",
    "    pq = priorityQueue()  \n",
    "     \n",
    "    costs = calculateCosts(initial, final)  \n",
    "    root = nodes(None, initial,  \n",
    "                empty_tile_posi, costs, 0)  \n",
    "  \n",
    "      \n",
    "    pq.push(root)  \n",
    "  \n",
    "      \n",
    "    while not pq.empty():  \n",
    "  \n",
    "        \n",
    "        minimum = pq.pop()  \n",
    "  \n",
    "         \n",
    "        if minimum.costs == 0:  \n",
    "              \n",
    "              \n",
    "            printPath(minimum)  \n",
    "            return  \n",
    "  \n",
    "          \n",
    "        for i in range(n):  \n",
    "            new_tile_posi = [  \n",
    "                minimum.empty_tile_posi[0] + rows[i],  \n",
    "                minimum.empty_tile_posi[1] + cols[i], ]  \n",
    "                  \n",
    "            if isSafe(new_tile_posi[0], new_tile_posi[1]):  \n",
    "                  \n",
    "                   \n",
    "                child = newNodes(minimum.mats,  \n",
    "                                minimum.empty_tile_posi,  \n",
    "                                new_tile_posi,  \n",
    "                                minimum.levels + 1,  \n",
    "                                minimum, final,)  \n",
    "     \n",
    "                pq.push(child)  \n",
    "  \n",
    "  \n",
    "initial = [ [ 1, 2, 3 ],  \n",
    "            [ 5, 6, 0 ],  \n",
    "            [ 7, 8, 4 ] ]  \n",
    "  \n",
    "   \n",
    "final = [ [ 1, 2, 3 ],  \n",
    "        [ 5, 8, 6 ],  \n",
    "        [ 0, 7, 4 ] ]  \n",
    "  \n",
    "   \n",
    "empty_tile_posi = [ 1, 2 ]  \n",
    "  \n",
    "   \n",
    "solve(initial, empty_tile_posi, final)"
   ]
  },
  {
   "cell_type": "markdown",
   "id": "475bfa26",
   "metadata": {},
   "source": [
    "2. Write a Program to Implement 8-Queen problem using"
   ]
  },
  {
   "cell_type": "code",
   "execution_count": 50,
   "id": "1d3f1d15",
   "metadata": {},
   "outputs": [
    {
     "name": "stdout",
     "output_type": "stream",
     "text": [
      "[[1, 0, 0, 0, 0, 0, 0, 0], [0, 0, 0, 0, 0, 0, 1, 0], [0, 0, 0, 0, 1, 0, 0, 0], [0, 0, 0, 0, 0, 0, 0, 1], [0, 1, 0, 0, 0, 0, 0, 0], [0, 0, 0, 1, 0, 0, 0, 0], [0, 0, 0, 0, 0, 1, 0, 0], [0, 0, 1, 0, 0, 0, 0, 0]]\n"
     ]
    }
   ],
   "source": [
    "N=8\n",
    "def solveNQueens(board, col):\n",
    "    if col == N:\n",
    "        print(board)\n",
    "        return True\n",
    "    for i in range(N):\n",
    "        if isSafe(board, i, col):\n",
    "            board[i][col] = 1\n",
    "            if solveNQueens(board, col + 1):\n",
    "                return True\n",
    "            board[i][col] = 0\n",
    "    return False\n",
    " \n",
    "def isSafe(board, row, col):\n",
    "    for x in range(col):\n",
    "        if board[row][x] == 1:\n",
    "            return False\n",
    "    for x, y in zip(range(row, -1, -1), range(col, -1, -1)):\n",
    "        if board[x][y] == 1:\n",
    "            return False\n",
    "    for x, y in zip(range(row, N, 1), range(col, -1, -1)):\n",
    "        if board[x][y] == 1:\n",
    "            return False\n",
    "    return True\n",
    " \n",
    "board = [[0 for x in range(N)] for y in range(N)]\n",
    "if not solveNQueens(board, 0):\n",
    "    print(\"No solution found\")"
   ]
  },
  {
   "cell_type": "markdown",
   "id": "45eaf7d9",
   "metadata": {},
   "source": [
    "3. Write a Program to Implement BFS & DFS problem using P"
   ]
  },
  {
   "cell_type": "code",
   "execution_count": 63,
   "id": "d9739cba",
   "metadata": {},
   "outputs": [
    {
     "name": "stdout",
     "output_type": "stream",
     "text": [
      "Following is the Breadth-First Search\n",
      "5 3 7 2 4 8 "
     ]
    }
   ],
   "source": [
    "graph = {\n",
    "  '5' : ['3','7'],\n",
    "  '3' : ['2', '4'],\n",
    "  '7' : ['8'],\n",
    "  '2' : [],\n",
    "  '4' : ['8'],\n",
    "  '8' : []\n",
    "}\n",
    "\n",
    "visited = [] \n",
    "queue = []      \n",
    "\n",
    "def bfs(visited, graph, node):  \n",
    "  visited.append(node)\n",
    "  queue.append(node)\n",
    "\n",
    "  while queue:           \n",
    "    m = queue.pop(0) \n",
    "    print (m, end = \" \") \n",
    "\n",
    "    for neighbour in graph[m]:\n",
    "      if neighbour not in visited:\n",
    "        visited.append(neighbour)\n",
    "        queue.append(neighbour)\n",
    "\n",
    "# Driver Code\n",
    "print(\"Following is the Breadth-First Search\")\n",
    "bfs(visited, graph, '5')     "
   ]
  },
  {
   "cell_type": "code",
   "execution_count": 2,
   "id": "bee4de09",
   "metadata": {},
   "outputs": [
    {
     "name": "stdout",
     "output_type": "stream",
     "text": [
      "Following is the Depth-First Search\n",
      "5\n",
      "3\n",
      "2\n",
      "4\n",
      "8\n",
      "7\n"
     ]
    }
   ],
   "source": [
    "# Using a Python dictionary to act as an adjacency list\n",
    "graph = {\n",
    "  '5' : ['3','7'],\n",
    "  '3' : ['2', '4'],\n",
    "  '7' : ['8'],\n",
    "  '2' : [],\n",
    "  '4' : ['8'],\n",
    "  '8' : []\n",
    "}\n",
    "\n",
    "visited = set() # Set to keep track of visited nodes of graph.\n",
    "\n",
    "def dfs(visited, graph, node):  #function for dfs \n",
    "    if node not in visited:\n",
    "        print (node)\n",
    "        visited.add(node)\n",
    "        for neighbour in graph[node]:\n",
    "            dfs(visited, graph, neighbour)\n",
    "\n",
    "# Driver Code\n",
    "print(\"Following is the Depth-First Search\")\n",
    "dfs(visited, graph, '5')"
   ]
  },
  {
   "cell_type": "markdown",
   "id": "98263bd1",
   "metadata": {},
   "source": [
    "4. Write a Program to Implement Tower of Hanoi problem using Python"
   ]
  },
  {
   "cell_type": "code",
   "execution_count": 65,
   "id": "329684ee",
   "metadata": {},
   "outputs": [
    {
     "name": "stdout",
     "output_type": "stream",
     "text": [
      "Move disk 1 from source A to destination C\n",
      "Move disk 2 from source A to destination B\n",
      "Move disk 1 from source C to destination B\n",
      "Move disk 3 from source A to destination C\n",
      "Move disk 1 from source B to destination A\n",
      "Move disk 2 from source B to destination C\n",
      "Move disk 1 from source A to destination C\n",
      "Move disk 4 from source A to destination B\n",
      "Move disk 1 from source C to destination B\n",
      "Move disk 2 from source C to destination A\n",
      "Move disk 1 from source B to destination A\n",
      "Move disk 3 from source C to destination B\n",
      "Move disk 1 from source A to destination C\n",
      "Move disk 2 from source A to destination B\n",
      "Move disk 1 from source C to destination B\n"
     ]
    }
   ],
   "source": [
    "def TowerOfHanoi(n , source, destination, auxiliary):\n",
    "    if n==1:\n",
    "        print (\"Move disk 1 from source\",source,\"to destination\",destination)\n",
    "        return\n",
    "    TowerOfHanoi(n-1, source, auxiliary, destination)\n",
    "    print (\"Move disk\",n,\"from source\",source,\"to destination\",destination)\n",
    "    TowerOfHanoi(n-1, auxiliary, destination, source)\n",
    "         \n",
    " \n",
    "n = 4\n",
    "TowerOfHanoi(n,'A','B','C') \n",
    " "
   ]
  },
  {
   "cell_type": "markdown",
   "id": "d5a9fa2f",
   "metadata": {},
   "source": [
    "# Assignment 7"
   ]
  },
  {
   "cell_type": "markdown",
   "id": "b62e3a83",
   "metadata": {},
   "source": [
    "1. Write a program to implement A* search algorithm using python"
   ]
  },
  {
   "cell_type": "code",
   "execution_count": 6,
   "id": "b1257608",
   "metadata": {},
   "outputs": [
    {
     "name": "stdout",
     "output_type": "stream",
     "text": [
      "Path found: ['A', 'B', 'D']\n"
     ]
    }
   ],
   "source": [
    "from collections import deque\n",
    "\n",
    "class Graph:\n",
    "    \n",
    "    adjacency_list = {\n",
    "    'A': [('B', 1), ('C', 3), ('D', 7)],\n",
    "    'B': [('D', 5)],\n",
    "    'C': [('D', 12)]\n",
    "    }\n",
    "    graph1 = Graph(adjacency_list)\n",
    "    graph1.a_star_algorithm('A', 'D')\n",
    "\n",
    "    def __init__(self, adjacency_list):\n",
    "        self.adjacency_list = adjacency_list\n",
    "\n",
    "    def get_neighbors(self, v):\n",
    "        return self.adjacency_list[v]\n",
    "\n",
    "   \n",
    "    def h(self, n):\n",
    "        H = {\n",
    "            'A': 1,\n",
    "            'B': 1,\n",
    "            'C': 1,\n",
    "            'D': 1\n",
    "        }\n",
    "\n",
    "        return H[n]\n",
    "\n",
    "    def a_star_algorithm(self, start_node, stop_node):\n",
    "       \n",
    "        open_list = set([start_node])\n",
    "        closed_list = set([])\n",
    "\n",
    "        \n",
    "        g = {}\n",
    "\n",
    "        g[start_node] = 0\n",
    "\n",
    "        # parents contains an adjacency map of all nodes\n",
    "        parents = {}\n",
    "        parents[start_node] = start_node\n",
    "\n",
    "        while len(open_list) > 0:\n",
    "            n = None\n",
    "\n",
    "            \n",
    "            for v in open_list:\n",
    "                if n == None or g[v] + self.h(v) < g[n] + self.h(n):\n",
    "                    n = v;\n",
    "\n",
    "            if n == None:\n",
    "                print('Path does not exist!')\n",
    "                return None\n",
    "\n",
    "            \n",
    "            if n == stop_node:\n",
    "                reconst_path = []\n",
    "\n",
    "                while parents[n] != n:\n",
    "                    reconst_path.append(n)\n",
    "                    n = parents[n]\n",
    "\n",
    "                reconst_path.append(start_node)\n",
    "\n",
    "                reconst_path.reverse()\n",
    "\n",
    "                print('Path found: {}'.format(reconst_path))\n",
    "                return reconst_path\n",
    "\n",
    "             \n",
    "            for (m, weight) in self.get_neighbors(n):\n",
    "                \n",
    "                if m not in open_list and m not in closed_list:\n",
    "                    open_list.add(m)\n",
    "                    parents[m] = n\n",
    "                    g[m] = g[n] + weight\n",
    "\n",
    "                \n",
    "                else:\n",
    "                    if g[m] > g[n] + weight:\n",
    "                        g[m] = g[n] + weight\n",
    "                        parents[m] = n\n",
    "\n",
    "                        if m in closed_list:\n",
    "                            closed_list.remove(m)\n",
    "                            open_list.add(m)\n",
    "\n",
    "            \n",
    "            open_list.remove(n)\n",
    "            closed_list.add(n)\n",
    "\n",
    "        print('Path does not exist!')\n",
    "        return None"
   ]
  },
  {
   "cell_type": "markdown",
   "id": "a97d790b",
   "metadata": {},
   "source": [
    "2. Write a program to implement Ao* search algorithm using python"
   ]
  },
  {
   "cell_type": "code",
   "execution_count": 8,
   "id": "9cd5aede",
   "metadata": {},
   "outputs": [
    {
     "name": "stdout",
     "output_type": "stream",
     "text": [
      "Updated Cost :\n",
      "G : {'OR': ['I']} >>> {'I': 8}\n",
      "D : {'AND': ['E', 'F']} >>> {'E AND F': 5}\n",
      "C : {'OR': ['J']} >>> {'J': 2}\n",
      "B : {'OR': ['G', 'H']} >>> {'G OR H': 8}\n",
      "A : {'OR': ['D'], 'AND': ['B', 'C']} >>> {'B AND C': 12, 'D': 6}\n",
      "***************************************************************************\n",
      "Shortest Path :\n",
      " A = D=(E AND F) [E + F]\n"
     ]
    }
   ],
   "source": [
    " \n",
    "def Cost(H, condition, weight = 1):\n",
    "    cost = {}\n",
    "    if 'AND' in condition:\n",
    "        AND_nodes = condition['AND']\n",
    "        Path_A = ' AND '.join(AND_nodes)\n",
    "        PathA = sum(H[node]+weight for node in AND_nodes)\n",
    "        cost[Path_A] = PathA\n",
    " \n",
    "    if 'OR' in condition:\n",
    "        OR_nodes = condition['OR']\n",
    "        Path_B =' OR '.join(OR_nodes)\n",
    "        PathB = min(H[node]+weight for node in OR_nodes)\n",
    "        cost[Path_B] = PathB\n",
    "    return cost\n",
    " \n",
    " \n",
    "def update_cost(H, Conditions, weight=1):\n",
    "    Main_nodes = list(Conditions.keys())\n",
    "    Main_nodes.reverse()\n",
    "    least_cost= {}\n",
    "    for key in Main_nodes:\n",
    "        condition = Conditions[key]\n",
    "        print(key,':', Conditions[key],'>>>', Cost(H, condition, weight))\n",
    "        c = Cost(H, condition, weight) \n",
    "        H[key] = min(c.values())\n",
    "        least_cost[key] = Cost(H, condition, weight)            \n",
    "    return least_cost\n",
    " \n",
    " \n",
    "def shortest_path(Start,Updated_cost, H):\n",
    "    Path = Start\n",
    "    if Start in Updated_cost.keys():\n",
    "        Min_cost = min(Updated_cost[Start].values())\n",
    "        key = list(Updated_cost[Start].keys())\n",
    "        values = list(Updated_cost[Start].values())\n",
    "        Index = values.index(Min_cost)\n",
    "         \n",
    "         \n",
    "        Next = key[Index].split()\n",
    "        # ADD TO PATH FOR OR PATH\n",
    "        if len(Next) == 1:\n",
    " \n",
    "            Start =Next[0]\n",
    "            Path += ' = ' +shortest_path(Start, Updated_cost, H)\n",
    "         \n",
    "        else:\n",
    "            Path +='=('+key[Index]+') '\n",
    " \n",
    "            Start = Next[0]\n",
    "            Path += '[' +shortest_path(Start, Updated_cost, H) + ' + '\n",
    " \n",
    "            Start = Next[-1]\n",
    "            Path +=  shortest_path(Start, Updated_cost, H) + ']'\n",
    " \n",
    "    return Path\n",
    "         \n",
    " \n",
    "   \n",
    "H1 = {'A': 1, 'B': 6, 'C': 2, 'D': 12, 'E': 2, 'F': 1, 'G': 5, 'H': 7, 'I': 7, 'J': 1, 'T': 3}\n",
    " \n",
    " \n",
    "Conditions = {\n",
    " 'A': {'OR': ['D'], 'AND': ['B', 'C']},\n",
    " 'B': {'OR': ['G', 'H']},\n",
    " 'C': {'OR': ['J']},\n",
    " 'D': {'AND': ['E', 'F']},\n",
    " 'G': {'OR': ['I']}\n",
    "    \n",
    "}\n",
    " \n",
    " \n",
    "weight = 1\n",
    " \n",
    "print('Updated Cost :')\n",
    "Updated_cost = update_cost(H1, Conditions, weight=1)\n",
    "print('*'*75)\n",
    "print('Shortest Path :\\n',shortest_path('A', Updated_cost,H1))"
   ]
  },
  {
   "cell_type": "markdown",
   "id": "dfdbeacb",
   "metadata": {},
   "source": [
    "3. Write a program to implement Hill climbing algorithm using python"
   ]
  },
  {
   "cell_type": "code",
   "execution_count": 10,
   "id": "cd18e925",
   "metadata": {},
   "outputs": [
    {
     "name": "stdout",
     "output_type": "stream",
     "text": [
      "The solution is \n",
      " [7, 5, 0, 6, 9, 10, 1, 2, 4, 8, 3]\n"
     ]
    }
   ],
   "source": [
    "import random\n",
    "import numpy as np\n",
    "import networkx as nx\n",
    "\n",
    "#coordinate of the points/cities\n",
    "coordinate = np.array([[1,2], [30,21], [56,23], [8,18], [20,50], [3,4], [11,6], [6,7], [15,20], [10,9], [12,12]])\n",
    "\n",
    "#adjacency matrix for a weighted graph based on the given coordinates\n",
    "def generate_matrix(coordinate):\n",
    "    matrix = []\n",
    "    for i in range(len(coordinate)):\n",
    "        for j in range(len(coordinate)) :       \n",
    "            p = np.linalg.norm(coordinate[i] - coordinate[j])\n",
    "            matrix.append(p)\n",
    "    matrix = np.reshape(matrix, (len(coordinate),len(coordinate)))\n",
    "    #print(matrix)\n",
    "    return matrix\n",
    "\n",
    "#finds a random solution    \n",
    "def solution(matrix):\n",
    "    points = list(range(0, len(matrix)))\n",
    "    solution = []\n",
    "    for i in range(0, len(matrix)):\n",
    "        random_point = points[random.randint(0, len(points) - 1)]\n",
    "        solution.append(random_point)\n",
    "        points.remove(random_point)\n",
    "    return solution\n",
    "\n",
    "\n",
    "#calculate the path based on the random solution\n",
    "def path_length(matrix, solution):\n",
    "    cycle_length = 0\n",
    "    for i in range(0, len(solution)):\n",
    "        cycle_length += matrix[solution[i]][solution[i - 1]]\n",
    "    return cycle_length\n",
    "\n",
    "#generate neighbors of the random solution by swapping cities and returns the best neighbor\n",
    "def neighbors(matrix, solution):\n",
    "    neighbors = []\n",
    "    for i in range(len(solution)):\n",
    "        for j in range(i + 1, len(solution)):\n",
    "            neighbor = solution.copy()\n",
    "            neighbor[i] = solution[j]\n",
    "            neighbor[j] = solution[i]\n",
    "            neighbors.append(neighbor)\n",
    "            \n",
    "    #assume that the first neighbor in the list is the best neighbor      \n",
    "    best_neighbor = neighbors[0]\n",
    "    best_path = path_length(matrix, best_neighbor)\n",
    "    \n",
    "    #check if there is a better neighbor\n",
    "    for neighbor in neighbors:\n",
    "        current_path = path_length(matrix, neighbor)\n",
    "        if current_path < best_path:\n",
    "            best_path = current_path\n",
    "            best_neighbor = neighbor\n",
    "    return best_neighbor, best_path\n",
    "\n",
    "\n",
    "def hill_climbing(coordinate):\n",
    "    matrix = generate_matrix(coordinate)\n",
    "    \n",
    "    current_solution = solution(matrix)\n",
    "    current_path = path_length(matrix, current_solution)\n",
    "    neighbor = neighbors(matrix,current_solution)[0]\n",
    "    best_neighbor, best_neighbor_path = neighbors(matrix, neighbor)\n",
    "\n",
    "    while best_neighbor_path < current_path:\n",
    "        current_solution = best_neighbor\n",
    "        current_path = best_neighbor_path\n",
    "        neighbor = neighbors(matrix, current_solution)[0]\n",
    "        best_neighbor, best_neighbor_path = neighbors(matrix, neighbor)\n",
    "\n",
    "    return current_path, current_solution\n",
    "final_solution = hill_climbing(coordinate)\n",
    "print(\"The solution is \\n\", final_solution[1])"
   ]
  },
  {
   "cell_type": "markdown",
   "id": "e9d9b6b3",
   "metadata": {},
   "source": [
    "4. Write a program to implement A* search algorithm using simulated annealing"
   ]
  },
  {
   "cell_type": "code",
   "execution_count": 11,
   "id": "1f5019b3",
   "metadata": {},
   "outputs": [
    {
     "name": "stdout",
     "output_type": "stream",
     "text": [
      "Path found: ['A', 'E', 'D', 'G']\n"
     ]
    },
    {
     "data": {
      "text/plain": [
       "['A', 'E', 'D', 'G']"
      ]
     },
     "execution_count": 11,
     "metadata": {},
     "output_type": "execute_result"
    }
   ],
   "source": [
    "def aStarAlgo(start_node, stop_node):\n",
    "         \n",
    "        open_set = set(start_node) \n",
    "        closed_set = set()\n",
    "        g = {}  \n",
    "        parents = {} \n",
    " \n",
    "        \n",
    "        g[start_node] = 0\n",
    "         \n",
    "        parents[start_node] = start_node\n",
    "         \n",
    "         \n",
    "        while len(open_set) > 0:\n",
    "            n = None\n",
    " \n",
    "             \n",
    "            for v in open_set:\n",
    "                if n == None or g[v] + heuristic(v) < g[n] + heuristic(n):\n",
    "                    n = v\n",
    "             \n",
    "                     \n",
    "            if n == stop_node or Graph_nodes[n] == None:\n",
    "                pass\n",
    "            else:\n",
    "                for (m, weight) in get_neighbors(n):\n",
    "                   \n",
    "                    if m not in open_set and m not in closed_set:\n",
    "                        open_set.add(m)\n",
    "                        parents[m] = n\n",
    "                        g[m] = g[n] + weight\n",
    "                         \n",
    "     \n",
    "                    \n",
    "                    else:\n",
    "                        if g[m] > g[n] + weight:\n",
    "                             \n",
    "                            g[m] = g[n] + weight\n",
    "                            \n",
    "                            parents[m] = n\n",
    "                             \n",
    "                             \n",
    "                            if m in closed_set:\n",
    "                                closed_set.remove(m)\n",
    "                                open_set.add(m)\n",
    " \n",
    "            if n == None:\n",
    "                print('Path does not exist!')\n",
    "                return None\n",
    " \n",
    "            \n",
    "            if n == stop_node:\n",
    "                path = []\n",
    " \n",
    "                while parents[n] != n:\n",
    "                    path.append(n)\n",
    "                    n = parents[n]\n",
    " \n",
    "                path.append(start_node)\n",
    " \n",
    "                path.reverse()\n",
    " \n",
    "                print('Path found: {}'.format(path))\n",
    "                return path\n",
    " \n",
    " \n",
    "             \n",
    "            open_set.remove(n)\n",
    "            closed_set.add(n)\n",
    " \n",
    "        print('Path does not exist!')\n",
    "        return None\n",
    "         \n",
    " \n",
    "def get_neighbors(v):\n",
    "    if v in Graph_nodes:\n",
    "        return Graph_nodes[v]\n",
    "    else:\n",
    "        return None\n",
    " \n",
    "def heuristic(n):\n",
    "        H_dist = {\n",
    "            'A': 11,\n",
    "            'B': 6,\n",
    "            'C': 99,\n",
    "            'D': 1,\n",
    "            'E': 7,\n",
    "            'G': 0,\n",
    "             \n",
    "        }\n",
    " \n",
    "        return H_dist[n]\n",
    " \n",
    "#Describe your graph here  \n",
    "Graph_nodes = {\n",
    "    'A': [('B', 2), ('E', 3)],\n",
    "    'B': [('C', 1),('G', 9)],\n",
    "    'C': None,\n",
    "    'E': [('D', 6)],\n",
    "    'D': [('G', 1)],\n",
    "     \n",
    "}\n",
    "aStarAlgo('A', 'G')"
   ]
  },
  {
   "cell_type": "markdown",
   "id": "57291dd5",
   "metadata": {},
   "source": [
    "5. Write a program to Minimax and Alpha-Beta Pruning Using python"
   ]
  },
  {
   "cell_type": "code",
   "execution_count": 12,
   "id": "837ae24e",
   "metadata": {},
   "outputs": [
    {
     "name": "stdout",
     "output_type": "stream",
     "text": [
      "The optimal value is : 5\n"
     ]
    }
   ],
   "source": [
    "MAX, MIN = 1000, -1000\n",
    " \n",
    " \n",
    "def minimax(depth, nodeIndex, maximizingPlayer, \n",
    "            values, alpha, beta): \n",
    "   \n",
    "    if depth == 3: \n",
    "        return values[nodeIndex] \n",
    " \n",
    "    if maximizingPlayer: \n",
    "      \n",
    "        best = MIN\n",
    "  \n",
    "        for i in range(0, 2): \n",
    "             \n",
    "            val = minimax(depth + 1, nodeIndex * 2 + i, \n",
    "                          False, values, alpha, beta) \n",
    "            best = max(best, val) \n",
    "            alpha = max(alpha, best) \n",
    " \n",
    "             \n",
    "            if beta <= alpha: \n",
    "                break\n",
    "          \n",
    "        return best \n",
    "      \n",
    "    else:\n",
    "        best = MAX\n",
    " \n",
    "        \n",
    "        for i in range(0, 2): \n",
    "          \n",
    "            val = minimax(depth + 1, nodeIndex * 2 + i, \n",
    "                            True, values, alpha, beta) \n",
    "            best = min(best, val) \n",
    "            beta = min(beta, best) \n",
    " \n",
    "             \n",
    "            if beta <= alpha: \n",
    "                break\n",
    "          \n",
    "        return best \n",
    "      \n",
    " \n",
    "if __name__ == \"__main__\": \n",
    "  \n",
    "    values = [3, 5, 6, 9, 1, 2, 0, -1]  \n",
    "    print(\"The optimal value is :\", minimax(0, 0, True, values, MIN, MAX)) \n",
    "     \n",
    " "
   ]
  },
  {
   "cell_type": "markdown",
   "id": "0ed55284",
   "metadata": {},
   "source": [
    "# Assignment 8"
   ]
  },
  {
   "cell_type": "markdown",
   "id": "9d45aa16",
   "metadata": {},
   "source": [
    "1. Write a program to solve water jug problem using python."
   ]
  },
  {
   "cell_type": "code",
   "execution_count": 15,
   "id": "5952f168",
   "metadata": {},
   "outputs": [
    {
     "name": "stdout",
     "output_type": "stream",
     "text": [
      "Steps: \n",
      "0 0\n",
      "4 0\n",
      "4 3\n",
      "0 3\n",
      "3 0\n",
      "3 3\n",
      "4 2\n",
      "0 2\n"
     ]
    },
    {
     "data": {
      "text/plain": [
       "True"
      ]
     },
     "execution_count": 15,
     "metadata": {},
     "output_type": "execute_result"
    }
   ],
   "source": [
    "  \n",
    "from collections import defaultdict\n",
    " \n",
    "  \n",
    "jug1, jug2, aim = 4, 3, 2\n",
    " \n",
    "visited = defaultdict(lambda: False)\n",
    " \n",
    "def waterJugSolver(amt1, amt2): \n",
    " \n",
    "     \n",
    "    if (amt1 == aim and amt2 == 0) or (amt2 == aim and amt1 == 0):\n",
    "        print(amt1, amt2)\n",
    "        return True\n",
    "     \n",
    "     \n",
    "    if visited[(amt1, amt2)] == False:\n",
    "        print(amt1, amt2)\n",
    "     \n",
    "        \n",
    "        visited[(amt1, amt2)] = True\n",
    "     \n",
    "       \n",
    "        return (waterJugSolver(0, amt2) or\n",
    "                waterJugSolver(amt1, 0) or\n",
    "                waterJugSolver(jug1, amt2) or\n",
    "                waterJugSolver(amt1, jug2) or\n",
    "                waterJugSolver(amt1 + min(amt2, (jug1-amt1)),\n",
    "                amt2 - min(amt2, (jug1-amt1))) or\n",
    "                waterJugSolver(amt1 - min(amt1, (jug2-amt2)),\n",
    "                amt2 + min(amt1, (jug2-amt2))))\n",
    "     \n",
    "     \n",
    "    else:\n",
    "        return False\n",
    " \n",
    "print(\"Steps: \")\n",
    " \n",
    "waterJugSolver(0, 0)"
   ]
  },
  {
   "cell_type": "markdown",
   "id": "ebb09649",
   "metadata": {},
   "source": [
    "2. Write a program to shuffle Deck of cards "
   ]
  },
  {
   "cell_type": "code",
   "execution_count": 16,
   "id": "38e06542",
   "metadata": {},
   "outputs": [
    {
     "name": "stdout",
     "output_type": "stream",
     "text": [
      "[20, 43, 30, 19, 45, 51, 11, 6, 21, 18, 23, 10, 25, 7, 29, 0, 32, 26, 33, 9, 1, 22, 36, 15, 2, 14, 5, 13, 39, 40, 27, 38, 50, 37, 8, 49, 47, 41, 48, 24, 12, 31, 34, 35, 42, 28, 16, 3, 17, 44, 4, 46]\n"
     ]
    }
   ],
   "source": [
    " \n",
    " \n",
    "import random\n",
    "def shuffle(card,n) :\n",
    "     \n",
    "     \n",
    "    for i in range(n):\n",
    "         \n",
    "        \n",
    "        r = i + (random.randint(0,55) % (52 -i))\n",
    "        tmp=card[i]\n",
    "        card[i]=card[r]\n",
    "        card[r]=tmp\n",
    " \n",
    "if __name__=='__main__':\n",
    "    a=[0, 1, 2, 3, 4, 5, 6, 7, 8,\n",
    "       9, 10, 11, 12, 13, 14, 15,\n",
    "       16, 17, 18, 19, 20, 21, 22, \n",
    "       23, 24, 25, 26, 27, 28, 29,\n",
    "       30, 31, 32, 33, 34, 35, 36,\n",
    "       37, 38, 39, 40, 41, 42, 43, \n",
    "       44, 45, 46, 47, 48, 49, 50,\n",
    "       51]\n",
    "    shuffle(a,52)\n",
    "    print(a)\n",
    "        \n",
    " "
   ]
  },
  {
   "cell_type": "markdown",
   "id": "e9668f75",
   "metadata": {},
   "source": [
    "3. Write a program to solve the Monkey Banana problem using python ."
   ]
  },
  {
   "cell_type": "code",
   "execution_count": 1,
   "id": "94beac55",
   "metadata": {},
   "outputs": [
    {
     "name": "stdout",
     "output_type": "stream",
     "text": [
      "Maximum bananas the monkey can collect: 20\n"
     ]
    }
   ],
   "source": [
    " def monkey_banana(height, distance, step_height, box_distance):\n",
    "    if height <= 0 or distance <= 0:\n",
    "        return 0\n",
    "\n",
    "    \n",
    "    steps_without_box = height // step_height\n",
    "\n",
    "     \n",
    "    steps_with_box = height // step_height + (distance - box_distance) // distance\n",
    "\n",
    "    \n",
    "    bananas_without_box = steps_without_box\n",
    "    bananas_with_box = steps_with_box\n",
    "\n",
    "    \n",
    "    remaining_height_without_box = height - steps_without_box * step_height\n",
    "    remaining_distance_with_box = (distance - box_distance) % distance\n",
    "\n",
    "    \n",
    "    bananas_without_box += monkey_banana(remaining_height_without_box, distance, step_height, box_distance)\n",
    "    bananas_with_box += monkey_banana(height, remaining_distance_with_box, step_height, box_distance)\n",
    " \n",
    "    return max(bananas_without_box, bananas_with_box)\n",
    "\n",
    " \n",
    "height = 10\n",
    "distance = 20\n",
    "step_height = 2\n",
    "box_distance = 5\n",
    "\n",
    "max_bananas = monkey_banana(height, distance, step_height, box_distance)\n",
    "print(\"Maximum bananas the monkey can collect:\", max_bananas)"
   ]
  },
  {
   "cell_type": "markdown",
   "id": "f3b21d67",
   "metadata": {},
   "source": [
    "4. Write a program to solve traveling salesman using python"
   ]
  },
  {
   "cell_type": "code",
   "execution_count": 18,
   "id": "56503235",
   "metadata": {},
   "outputs": [
    {
     "name": "stdout",
     "output_type": "stream",
     "text": [
      "80\n"
     ]
    }
   ],
   "source": [
    " \n",
    "from sys import maxsize \n",
    "from itertools import permutations\n",
    "V = 4\n",
    " \n",
    " \n",
    "def travellingSalesmanProblem(graph, s): \n",
    " \n",
    "     \n",
    "    vertex = [] \n",
    "    for i in range(V): \n",
    "        if i != s: \n",
    "            vertex.append(i) \n",
    " \n",
    "      \n",
    "    min_path = maxsize \n",
    "    next_permutation=permutations(vertex)\n",
    "    for i in next_permutation:\n",
    " \n",
    "        \n",
    "        current_pathweight = 0\n",
    " \n",
    "         \n",
    "        k = s \n",
    "        for j in i: \n",
    "            current_pathweight += graph[k][j] \n",
    "            k = j \n",
    "        current_pathweight += graph[k][s] \n",
    " \n",
    "         \n",
    "        min_path = min(min_path, current_pathweight) \n",
    "         \n",
    "    return min_path \n",
    " \n",
    " \n",
    " \n",
    "if __name__ == \"__main__\": \n",
    " \n",
    "      \n",
    "    graph = [[0, 10, 15, 20], [10, 0, 35, 25], \n",
    "            [15, 35, 0, 30], [20, 25, 30, 0]] \n",
    "    s = 0\n",
    "    print(travellingSalesmanProblem(graph, s))"
   ]
  },
  {
   "cell_type": "markdown",
   "id": "0f9de0eb",
   "metadata": {},
   "source": [
    "# Assignment 9"
   ]
  },
  {
   "cell_type": "markdown",
   "id": "85490694",
   "metadata": {},
   "source": [
    "1. Commutative Law:\n",
    "    Write a Python function to demonstrate the commutative law for addition and multiplication using user input."
   ]
  },
  {
   "cell_type": "code",
   "execution_count": 4,
   "id": "28aaf196",
   "metadata": {},
   "outputs": [
    {
     "name": "stdout",
     "output_type": "stream",
     "text": [
      "enter number 23\n",
      "enter number -12\n"
     ]
    },
    {
     "data": {
      "text/plain": [
       "True"
      ]
     },
     "execution_count": 4,
     "metadata": {},
     "output_type": "execute_result"
    }
   ],
   "source": [
    "a = int(input('enter number '))\n",
    "b = int(input('enter number '))\n",
    "(a+b) == (b+a)\n",
    "(a*b) == (b*a)"
   ]
  },
  {
   "cell_type": "markdown",
   "id": "fedfa7b1",
   "metadata": {},
   "source": [
    "2. Associative Law:\n",
    "   Create a Python program that verifies the associative law for addition and multiplication with a list of numbers.\n"
   ]
  },
  {
   "cell_type": "code",
   "execution_count": 5,
   "id": "5bd750d8",
   "metadata": {},
   "outputs": [
    {
     "data": {
      "text/plain": [
       "True"
      ]
     },
     "execution_count": 5,
     "metadata": {},
     "output_type": "execute_result"
    }
   ],
   "source": [
    "a = [1,2,3]\n",
    "( a[0] + (a[1] + a[2]) ) == ((a[0]+ a[1] )+ a[2] )"
   ]
  },
  {
   "cell_type": "markdown",
   "id": "f2040068",
   "metadata": {},
   "source": [
    "3. De Morgan's Laws:\n",
    "   Write a Python function that implements De Morgan's Laws for two \n",
    "   Boolean variables and returns the results for both AND and OR operations."
   ]
  },
  {
   "cell_type": "code",
   "execution_count": 8,
   "id": "527ea0cd",
   "metadata": {},
   "outputs": [
    {
     "name": "stdout",
     "output_type": "stream",
     "text": [
      "enter bit 1\n",
      "enter bit 1\n"
     ]
    },
    {
     "data": {
      "text/plain": [
       "True"
      ]
     },
     "execution_count": 8,
     "metadata": {},
     "output_type": "execute_result"
    }
   ],
   "source": [
    "a = int(input('enter bit '))\n",
    "b = int(input('enter bit '))\n",
    "(~(a&b)) == ((~a)|(~b))"
   ]
  },
  {
   "cell_type": "markdown",
   "id": "b9b4c1cf",
   "metadata": {},
   "source": [
    "4. Law of Excluded Middle:\n",
    "   Implement a Python function that illustrates the law of excluded middle by determining if a given proposition is      either true or false."
   ]
  },
  {
   "cell_type": "code",
   "execution_count": 9,
   "id": "6ee71210",
   "metadata": {},
   "outputs": [
    {
     "name": "stdout",
     "output_type": "stream",
     "text": [
      "Is 'True' either true or false?  True\n",
      "Is 'False' either true or false?  False\n"
     ]
    }
   ],
   "source": [
    "def law_of_excluded_middle(proposition):\n",
    "    if proposition:\n",
    "        return True\n",
    "    else:\n",
    "        return False\n",
    "\n",
    " \n",
    "result1 = law_of_excluded_middle(True)\n",
    "result2 = law_of_excluded_middle(False)\n",
    "\n",
    "print(\"Is 'True' either true or false? \", result1)   \n",
    "print(\"Is 'False' either true or false? \", result2) "
   ]
  },
  {
   "cell_type": "markdown",
   "id": "c5da16fc",
   "metadata": {},
   "source": [
    "# Assignment 10"
   ]
  },
  {
   "cell_type": "markdown",
   "id": "932d8a8a",
   "metadata": {},
   "source": [
    "1. Develop a Python script to model adsorption using a simple adsorption isotherm equation, allowing users to input values and plot the adsorption curve."
   ]
  },
  {
   "cell_type": "code",
   "execution_count": 10,
   "id": "33deaa51",
   "metadata": {},
   "outputs": [
    {
     "name": "stdout",
     "output_type": "stream",
     "text": [
      "Enter the maximum adsorption capacity (Qmax): 1000\n",
      "Enter the Langmuir constant (K): 0.003\n"
     ]
    },
    {
     "data": {
      "image/png": "[encoded data removed]",
      "text/plain": [
       "<Figure size 800x600 with 1 Axes>"
      ]
     },
     "metadata": {},
     "output_type": "display_data"
    }
   ],
   "source": [
    "import numpy as np\n",
    "import matplotlib.pyplot as plt\n",
    "\n",
    " \n",
    "def langmuir_adsorption(Qmax, K, C):\n",
    "    return (Qmax * K * C) / (1 + K * C)\n",
    "\n",
    " \n",
    "Qmax = float(input(\"Enter the maximum adsorption capacity (Qmax): \"))\n",
    "K = float(input(\"Enter the Langmuir constant (K): \"))\n",
    "\n",
    " \n",
    "C_range = np.linspace(0, 20, 100)   \n",
    "\n",
    " \n",
    "adsorption = langmuir_adsorption(Qmax, K, C_range)\n",
    "\n",
    " \n",
    "plt.figure(figsize=(8, 6))\n",
    "plt.plot(C_range, adsorption, label=\"Adsorption Isotherm\")\n",
    "plt.xlabel(\"Concentration (C)\")\n",
    "plt.ylabel(\"Adsorption (Q)\")\n",
    "plt.title(\"Langmuir Adsorption Isotherm\")\n",
    "plt.legend()\n",
    "plt.grid(True)\n",
    "plt.show()"
   ]
  },
  {
   "cell_type": "markdown",
   "id": "d640f969",
   "metadata": {},
   "source": [
    "2. Write a Python function to apply double negation to a logical expression represented as a string and return the simplified expression.\n"
   ]
  },
  {
   "cell_type": "code",
   "execution_count": 11,
   "id": "a5a7be8d",
   "metadata": {},
   "outputs": [
    {
     "name": "stdout",
     "output_type": "stream",
     "text": [
      "Original Expression: !(A && B) || !!C\n",
      "Simplified Expression: !(A && B) || C\n"
     ]
    }
   ],
   "source": [
    "def apply_double_negation(expression):\n",
    "    while '!!' in expression:\n",
    "        expression = expression.replace('!!', '')\n",
    "\n",
    "    return expression\n",
    "\n",
    " \n",
    "original_expression = '!(A && B) || !!C'\n",
    "simplified_expression = apply_double_negation(original_expression)\n",
    "\n",
    "print(\"Original Expression:\", original_expression)\n",
    "print(\"Simplified Expression:\", simplified_expression)"
   ]
  },
  {
   "cell_type": "markdown",
   "id": "59b2d3eb",
   "metadata": {},
   "source": [
    "3. Create a Python program that checks if a given logical expression violates the law of\n",
    "   contradiction and provides feedback on the contradiction if found"
   ]
  },
  {
   "cell_type": "code",
   "execution_count": 12,
   "id": "5e3eab29",
   "metadata": {},
   "outputs": [
    {
     "name": "stdout",
     "output_type": "stream",
     "text": [
      "The expression is not a contradiction; it evaluates to True.\n"
     ]
    }
   ],
   "source": [
    "def check_contradiction(expression):\n",
    "    try:\n",
    "         \n",
    "        \n",
    "        if result:\n",
    "            print(\"The expression is not a contradiction; it evaluates to True.\")\n",
    "        else:\n",
    "            print(\"The expression is not a contradiction; it evaluates to False.\")\n",
    "    \n",
    "    except Exception as e:\n",
    "        print(\"An error occurred while evaluating the expression. Make sure it's a valid logical expression.\")\n",
    "\n",
    " \n",
    "logical_expression = \"True and not (True and False)\"\n",
    "check_contradiction(logical_expression)"
   ]
  },
  {
   "cell_type": "markdown",
   "id": "00bf50a2",
   "metadata": {},
   "source": [
    "4. Implement a Python function that represents a Modus Ponens inference rule. Given a knowledge base with facts and an implication,the function should determine if the conclusion can be derived."
   ]
  },
  {
   "cell_type": "code",
   "execution_count": 13,
   "id": "2b11a079",
   "metadata": {},
   "outputs": [
    {
     "name": "stdout",
     "output_type": "stream",
     "text": [
      "The conclusion 'D' can be derived from the knowledge base.\n"
     ]
    }
   ],
   "source": [
    "def modus_ponens(knowledge_base, implication):\n",
    "    antecedent, conclusion = implication\n",
    "\n",
    "    if antecedent in knowledge_base:\n",
    "        return conclusion\n",
    "\n",
    "    return None\n",
    "\n",
    " \n",
    "knowledge_base = ['A', 'B', 'C']\n",
    "implication = ('B', 'D')\n",
    "conclusion = modus_ponens(knowledge_base, implication)\n",
    "\n",
    "if conclusion is not None:\n",
    "    print(f\"The conclusion '{conclusion}' can be derived from the knowledge base.\")\n",
    "else:\n",
    "    print(\"The conclusion cannot be derived from the knowledge base.\")"
   ]
  },
  {
   "cell_type": "markdown",
   "id": "8c2ea42f",
   "metadata": {},
   "source": [
    "5. Create a Python program that demonstrates Modus Tollens. Given a conditional statement and the negation of\n",
    "   the consequent, the program should check if it implies the negation of the antecedent."
   ]
  },
  {
   "cell_type": "code",
   "execution_count": 14,
   "id": "d9e2af33",
   "metadata": {},
   "outputs": [
    {
     "name": "stdout",
     "output_type": "stream",
     "text": [
      "Modus Tollens applies: Negation of A can be concluded.\n"
     ]
    }
   ],
   "source": [
    "def modus_tollens(conditional, negation_of_consequent):\n",
    "    antecedent, consequent = conditional\n",
    "    negation_of_antecedent = ('not ' + consequent, 'not ' + antecedent)\n",
    "\n",
    "    if negation_of_consequent == negation_of_antecedent:\n",
    "        return True\n",
    "    return False\n",
    "\n",
    " \n",
    "conditional_statement = ('A', 'B')  # A implies B\n",
    "negation_of_consequent = ('not B', 'not A')  # Negation of B implies negation of A\n",
    "\n",
    "result = modus_tollens(conditional_statement, negation_of_consequent)\n",
    "\n",
    "if result:\n",
    "    print(\"Modus Tollens applies: Negation of A can be concluded.\")\n",
    "else:\n",
    "    print(\"Modus Tollens does not apply in this case.\")"
   ]
  },
  {
   "cell_type": "code",
   "execution_count": null,
   "id": "6c3a938d",
   "metadata": {},
   "outputs": [],
   "source": []
  }
 ],
 "metadata": {
  "kernelspec": {
   "display_name": "Python 3 (ipykernel)",
   "language": "python",
   "name": "python3"
  },
  "language_info": {
   "codemirror_mode": {
    "name": "ipython",
    "version": 3
   },
   "file_extension": ".py",
   "mimetype": "text/x-python",
   "name": "python",
   "nbconvert_exporter": "python",
   "pygments_lexer": "ipython3",
   "version": "3.11.4"
  }
 },
 "nbformat": 4,
 "nbformat_minor": 5
}
